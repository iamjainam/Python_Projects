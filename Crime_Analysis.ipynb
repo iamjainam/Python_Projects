{
  "cells": [
    {
      "cell_type": "markdown",
      "metadata": {
        "id": "view-in-github",
        "colab_type": "text"
      },
      "source": [
        "<a href=\"https://colab.research.google.com/github/jainam-shah1/Python_Projects/blob/main/Crime_Analysis.ipynb\" target=\"_parent\"><img src=\"https://colab.research.google.com/assets/colab-badge.svg\" alt=\"Open In Colab\"/></a>"
      ]
    },
    {
      "cell_type": "markdown",
      "metadata": {
        "id": "Zbyk_0Gmfdgi"
      },
      "source": [
        "#<font color=\"red\"> CRIMINAL JUSTICE </font> \n",
        "> By Jainam Shah\n",
        "\n"
      ]
    },
    {
      "cell_type": "markdown",
      "metadata": {
        "id": "CCfBPAyqfoMG"
      },
      "source": [
        "##Objective"
      ]
    },
    {
      "cell_type": "markdown",
      "metadata": {
        "id": "DcffQT0NP5Wu"
      },
      "source": [
        "<p>My company (Criminal Justice) aims to provide a detailed analysis of crimes in 68 different agency jurisdiction in cities and states in the USA. All the data and informatoin that was required for the analysis was provided by the Police Enforcement team and since the data is first hand information, biasness is very low.</p>\n",
        "<p>I aim to find if increase or decrease in population has any effect on crime rate in each jurisdiction. And by placing more enforcement can we bring more justice to that jurisdiction</p>\n",
        "<p>With the information provided, I can analyze the trend in robbery, rapes, homicides and assaults in last 4 decades and according to the result, my team and police enforcement team can come up with best possible solution such as: increase the number of police officer patrolling and build new police station in cities where crime rate growth is rising in past 4 decades, or bring in more enforcement from another states where the crime rate is significant less.</p>\n",
        "\n",
        "---"
      ]
    },
    {
      "cell_type": "markdown",
      "metadata": {
        "id": "QLvokeDNfq70"
      },
      "source": [
        "##Data exploration"
      ]
    },
    {
      "cell_type": "markdown",
      "metadata": {
        "id": "7CjxpgpyQtyH"
      },
      "source": [
        "> Importing prerequist library such as pandas and numpy to perform calculation and analysis and Seaborn and matplotlib for visualization on the dataset."
      ]
    },
    {
      "cell_type": "code",
      "execution_count": null,
      "metadata": {
        "id": "1c5UH3XIcFz2"
      },
      "outputs": [],
      "source": [
        "import numpy as np\n",
        "import pandas as pd\n",
        "import seaborn as sns\n",
        "import matplotlib.pyplot as plt"
      ]
    },
    {
      "cell_type": "markdown",
      "metadata": {
        "id": "NcJqs4H0RF8V"
      },
      "source": [
        "> To read a csv file into a dataframe, we call the read function from pandas library."
      ]
    },
    {
      "cell_type": "code",
      "execution_count": null,
      "metadata": {
        "id": "B5YM8WBGc6lI"
      },
      "outputs": [],
      "source": [
        "df = pd.read_csv(\"/content/report.csv\")"
      ]
    },
    {
      "cell_type": "markdown",
      "metadata": {
        "id": "xHW2P29EROHZ"
      },
      "source": [
        "> Head function prints the top 5 rows of the dataframe by default but we can change it nrow of dataframe."
      ]
    },
    {
      "cell_type": "code",
      "execution_count": null,
      "metadata": {
        "colab": {
          "base_uri": "https://localhost:8080/",
          "height": 427
        },
        "id": "0P41i5vPeNZg",
        "outputId": "098b6948-7930-4922-a284-68671f268520"
      },
      "outputs": [
        {
          "data": {
            "text/html": [
              "\n",
              "  <div id=\"df-e77ad2b6-bafb-40c3-8405-60b216c470f5\">\n",
              "    <div class=\"colab-df-container\">\n",
              "      <div>\n",
              "<style scoped>\n",
              "    .dataframe tbody tr th:only-of-type {\n",
              "        vertical-align: middle;\n",
              "    }\n",
              "\n",
              "    .dataframe tbody tr th {\n",
              "        vertical-align: top;\n",
              "    }\n",
              "\n",
              "    .dataframe thead th {\n",
              "        text-align: right;\n",
              "    }\n",
              "</style>\n",
              "<table border=\"1\" class=\"dataframe\">\n",
              "  <thead>\n",
              "    <tr style=\"text-align: right;\">\n",
              "      <th></th>\n",
              "      <th>report_year</th>\n",
              "      <th>agency_code</th>\n",
              "      <th>agency_jurisdiction</th>\n",
              "      <th>population</th>\n",
              "      <th>violent_crimes</th>\n",
              "      <th>homicides</th>\n",
              "      <th>rapes</th>\n",
              "      <th>assaults</th>\n",
              "      <th>robberies</th>\n",
              "      <th>months_reported</th>\n",
              "      <th>crimes_percapita</th>\n",
              "      <th>homicides_percapita</th>\n",
              "      <th>rapes_percapita</th>\n",
              "      <th>assaults_percapita</th>\n",
              "      <th>robberies_percapita</th>\n",
              "    </tr>\n",
              "  </thead>\n",
              "  <tbody>\n",
              "    <tr>\n",
              "      <th>0</th>\n",
              "      <td>1975</td>\n",
              "      <td>NM00101</td>\n",
              "      <td>Albuquerque, NM</td>\n",
              "      <td>286238.0</td>\n",
              "      <td>2383.0</td>\n",
              "      <td>30.0</td>\n",
              "      <td>181.0</td>\n",
              "      <td>1353.0</td>\n",
              "      <td>819.0</td>\n",
              "      <td>12.0</td>\n",
              "      <td>832.52</td>\n",
              "      <td>10.48</td>\n",
              "      <td>63.23</td>\n",
              "      <td>472.68</td>\n",
              "      <td>286.13</td>\n",
              "    </tr>\n",
              "    <tr>\n",
              "      <th>1</th>\n",
              "      <td>1975</td>\n",
              "      <td>TX22001</td>\n",
              "      <td>Arlington, TX</td>\n",
              "      <td>112478.0</td>\n",
              "      <td>278.0</td>\n",
              "      <td>5.0</td>\n",
              "      <td>28.0</td>\n",
              "      <td>132.0</td>\n",
              "      <td>113.0</td>\n",
              "      <td>12.0</td>\n",
              "      <td>247.16</td>\n",
              "      <td>4.45</td>\n",
              "      <td>24.89</td>\n",
              "      <td>117.36</td>\n",
              "      <td>100.46</td>\n",
              "    </tr>\n",
              "    <tr>\n",
              "      <th>2</th>\n",
              "      <td>1975</td>\n",
              "      <td>GAAPD00</td>\n",
              "      <td>Atlanta, GA</td>\n",
              "      <td>490584.0</td>\n",
              "      <td>8033.0</td>\n",
              "      <td>185.0</td>\n",
              "      <td>443.0</td>\n",
              "      <td>3518.0</td>\n",
              "      <td>3887.0</td>\n",
              "      <td>12.0</td>\n",
              "      <td>1637.44</td>\n",
              "      <td>37.71</td>\n",
              "      <td>90.30</td>\n",
              "      <td>717.10</td>\n",
              "      <td>792.32</td>\n",
              "    </tr>\n",
              "    <tr>\n",
              "      <th>3</th>\n",
              "      <td>1975</td>\n",
              "      <td>CO00101</td>\n",
              "      <td>Aurora, CO</td>\n",
              "      <td>116656.0</td>\n",
              "      <td>611.0</td>\n",
              "      <td>7.0</td>\n",
              "      <td>44.0</td>\n",
              "      <td>389.0</td>\n",
              "      <td>171.0</td>\n",
              "      <td>12.0</td>\n",
              "      <td>523.76</td>\n",
              "      <td>6.00</td>\n",
              "      <td>37.72</td>\n",
              "      <td>333.46</td>\n",
              "      <td>146.58</td>\n",
              "    </tr>\n",
              "    <tr>\n",
              "      <th>4</th>\n",
              "      <td>1975</td>\n",
              "      <td>TX22701</td>\n",
              "      <td>Austin, TX</td>\n",
              "      <td>300400.0</td>\n",
              "      <td>1215.0</td>\n",
              "      <td>33.0</td>\n",
              "      <td>190.0</td>\n",
              "      <td>463.0</td>\n",
              "      <td>529.0</td>\n",
              "      <td>12.0</td>\n",
              "      <td>404.46</td>\n",
              "      <td>10.99</td>\n",
              "      <td>63.25</td>\n",
              "      <td>154.13</td>\n",
              "      <td>176.10</td>\n",
              "    </tr>\n",
              "    <tr>\n",
              "      <th>5</th>\n",
              "      <td>1975</td>\n",
              "      <td>MD00301</td>\n",
              "      <td>Baltimore County, MD</td>\n",
              "      <td>642154.0</td>\n",
              "      <td>1259.0</td>\n",
              "      <td>25.0</td>\n",
              "      <td>137.0</td>\n",
              "      <td>347.0</td>\n",
              "      <td>750.0</td>\n",
              "      <td>12.0</td>\n",
              "      <td>196.06</td>\n",
              "      <td>3.89</td>\n",
              "      <td>21.33</td>\n",
              "      <td>54.04</td>\n",
              "      <td>116.79</td>\n",
              "    </tr>\n",
              "    <tr>\n",
              "      <th>6</th>\n",
              "      <td>1975</td>\n",
              "      <td>MDBPD00</td>\n",
              "      <td>Baltimore, MD</td>\n",
              "      <td>864100.0</td>\n",
              "      <td>16086.0</td>\n",
              "      <td>259.0</td>\n",
              "      <td>463.0</td>\n",
              "      <td>6309.0</td>\n",
              "      <td>9055.0</td>\n",
              "      <td>12.0</td>\n",
              "      <td>1861.59</td>\n",
              "      <td>29.97</td>\n",
              "      <td>53.58</td>\n",
              "      <td>730.12</td>\n",
              "      <td>1047.91</td>\n",
              "    </tr>\n",
              "    <tr>\n",
              "      <th>7</th>\n",
              "      <td>1975</td>\n",
              "      <td>MA01301</td>\n",
              "      <td>Boston, MA</td>\n",
              "      <td>616120.0</td>\n",
              "      <td>11386.0</td>\n",
              "      <td>119.0</td>\n",
              "      <td>453.0</td>\n",
              "      <td>3036.0</td>\n",
              "      <td>7778.0</td>\n",
              "      <td>12.0</td>\n",
              "      <td>1848.02</td>\n",
              "      <td>19.31</td>\n",
              "      <td>73.52</td>\n",
              "      <td>492.76</td>\n",
              "      <td>1262.42</td>\n",
              "    </tr>\n",
              "    <tr>\n",
              "      <th>8</th>\n",
              "      <td>1975</td>\n",
              "      <td>NY01401</td>\n",
              "      <td>Buffalo, NY</td>\n",
              "      <td>422276.0</td>\n",
              "      <td>3350.0</td>\n",
              "      <td>63.0</td>\n",
              "      <td>192.0</td>\n",
              "      <td>755.0</td>\n",
              "      <td>2340.0</td>\n",
              "      <td>12.0</td>\n",
              "      <td>793.32</td>\n",
              "      <td>14.92</td>\n",
              "      <td>45.47</td>\n",
              "      <td>178.79</td>\n",
              "      <td>554.14</td>\n",
              "    </tr>\n",
              "    <tr>\n",
              "      <th>9</th>\n",
              "      <td>1975</td>\n",
              "      <td>NC06001</td>\n",
              "      <td>Charlotte, NC</td>\n",
              "      <td>262103.0</td>\n",
              "      <td>1937.0</td>\n",
              "      <td>68.0</td>\n",
              "      <td>71.0</td>\n",
              "      <td>976.0</td>\n",
              "      <td>822.0</td>\n",
              "      <td>12.0</td>\n",
              "      <td>739.02</td>\n",
              "      <td>25.94</td>\n",
              "      <td>27.09</td>\n",
              "      <td>372.37</td>\n",
              "      <td>313.62</td>\n",
              "    </tr>\n",
              "  </tbody>\n",
              "</table>\n",
              "</div>\n",
              "      <button class=\"colab-df-convert\" onclick=\"convertToInteractive('df-e77ad2b6-bafb-40c3-8405-60b216c470f5')\"\n",
              "              title=\"Convert this dataframe to an interactive table.\"\n",
              "              style=\"display:none;\">\n",
              "        \n",
              "  <svg xmlns=\"http://www.w3.org/2000/svg\" height=\"24px\"viewBox=\"0 0 24 24\"\n",
              "       width=\"24px\">\n",
              "    <path d=\"M0 0h24v24H0V0z\" fill=\"none\"/>\n",
              "    <path d=\"M18.56 5.44l.94 2.06.94-2.06 2.06-.94-2.06-.94-.94-2.06-.94 2.06-2.06.94zm-11 1L8.5 8.5l.94-2.06 2.06-.94-2.06-.94L8.5 2.5l-.94 2.06-2.06.94zm10 10l.94 2.06.94-2.06 2.06-.94-2.06-.94-.94-2.06-.94 2.06-2.06.94z\"/><path d=\"M17.41 7.96l-1.37-1.37c-.4-.4-.92-.59-1.43-.59-.52 0-1.04.2-1.43.59L10.3 9.45l-7.72 7.72c-.78.78-.78 2.05 0 2.83L4 21.41c.39.39.9.59 1.41.59.51 0 1.02-.2 1.41-.59l7.78-7.78 2.81-2.81c.8-.78.8-2.07 0-2.86zM5.41 20L4 18.59l7.72-7.72 1.47 1.35L5.41 20z\"/>\n",
              "  </svg>\n",
              "      </button>\n",
              "      \n",
              "  <style>\n",
              "    .colab-df-container {\n",
              "      display:flex;\n",
              "      flex-wrap:wrap;\n",
              "      gap: 12px;\n",
              "    }\n",
              "\n",
              "    .colab-df-convert {\n",
              "      background-color: #E8F0FE;\n",
              "      border: none;\n",
              "      border-radius: 50%;\n",
              "      cursor: pointer;\n",
              "      display: none;\n",
              "      fill: #1967D2;\n",
              "      height: 32px;\n",
              "      padding: 0 0 0 0;\n",
              "      width: 32px;\n",
              "    }\n",
              "\n",
              "    .colab-df-convert:hover {\n",
              "      background-color: #E2EBFA;\n",
              "      box-shadow: 0px 1px 2px rgba(60, 64, 67, 0.3), 0px 1px 3px 1px rgba(60, 64, 67, 0.15);\n",
              "      fill: #174EA6;\n",
              "    }\n",
              "\n",
              "    [theme=dark] .colab-df-convert {\n",
              "      background-color: #3B4455;\n",
              "      fill: #D2E3FC;\n",
              "    }\n",
              "\n",
              "    [theme=dark] .colab-df-convert:hover {\n",
              "      background-color: #434B5C;\n",
              "      box-shadow: 0px 1px 3px 1px rgba(0, 0, 0, 0.15);\n",
              "      filter: drop-shadow(0px 1px 2px rgba(0, 0, 0, 0.3));\n",
              "      fill: #FFFFFF;\n",
              "    }\n",
              "  </style>\n",
              "\n",
              "      <script>\n",
              "        const buttonEl =\n",
              "          document.querySelector('#df-e77ad2b6-bafb-40c3-8405-60b216c470f5 button.colab-df-convert');\n",
              "        buttonEl.style.display =\n",
              "          google.colab.kernel.accessAllowed ? 'block' : 'none';\n",
              "\n",
              "        async function convertToInteractive(key) {\n",
              "          const element = document.querySelector('#df-e77ad2b6-bafb-40c3-8405-60b216c470f5');\n",
              "          const dataTable =\n",
              "            await google.colab.kernel.invokeFunction('convertToInteractive',\n",
              "                                                     [key], {});\n",
              "          if (!dataTable) return;\n",
              "\n",
              "          const docLinkHtml = 'Like what you see? Visit the ' +\n",
              "            '<a target=\"_blank\" href=https://colab.research.google.com/notebooks/data_table.ipynb>data table notebook</a>'\n",
              "            + ' to learn more about interactive tables.';\n",
              "          element.innerHTML = '';\n",
              "          dataTable['output_type'] = 'display_data';\n",
              "          await google.colab.output.renderOutput(dataTable, element);\n",
              "          const docLink = document.createElement('div');\n",
              "          docLink.innerHTML = docLinkHtml;\n",
              "          element.appendChild(docLink);\n",
              "        }\n",
              "      </script>\n",
              "    </div>\n",
              "  </div>\n",
              "  "
            ],
            "text/plain": [
              "   report_year agency_code   agency_jurisdiction  population  violent_crimes  \\\n",
              "0         1975     NM00101       Albuquerque, NM    286238.0          2383.0   \n",
              "1         1975     TX22001         Arlington, TX    112478.0           278.0   \n",
              "2         1975     GAAPD00           Atlanta, GA    490584.0          8033.0   \n",
              "3         1975     CO00101            Aurora, CO    116656.0           611.0   \n",
              "4         1975     TX22701            Austin, TX    300400.0          1215.0   \n",
              "5         1975     MD00301  Baltimore County, MD    642154.0          1259.0   \n",
              "6         1975     MDBPD00         Baltimore, MD    864100.0         16086.0   \n",
              "7         1975     MA01301            Boston, MA    616120.0         11386.0   \n",
              "8         1975     NY01401           Buffalo, NY    422276.0          3350.0   \n",
              "9         1975     NC06001         Charlotte, NC    262103.0          1937.0   \n",
              "\n",
              "   homicides  rapes  assaults  robberies  months_reported  crimes_percapita  \\\n",
              "0       30.0  181.0    1353.0      819.0             12.0            832.52   \n",
              "1        5.0   28.0     132.0      113.0             12.0            247.16   \n",
              "2      185.0  443.0    3518.0     3887.0             12.0           1637.44   \n",
              "3        7.0   44.0     389.0      171.0             12.0            523.76   \n",
              "4       33.0  190.0     463.0      529.0             12.0            404.46   \n",
              "5       25.0  137.0     347.0      750.0             12.0            196.06   \n",
              "6      259.0  463.0    6309.0     9055.0             12.0           1861.59   \n",
              "7      119.0  453.0    3036.0     7778.0             12.0           1848.02   \n",
              "8       63.0  192.0     755.0     2340.0             12.0            793.32   \n",
              "9       68.0   71.0     976.0      822.0             12.0            739.02   \n",
              "\n",
              "   homicides_percapita  rapes_percapita  assaults_percapita  \\\n",
              "0                10.48            63.23              472.68   \n",
              "1                 4.45            24.89              117.36   \n",
              "2                37.71            90.30              717.10   \n",
              "3                 6.00            37.72              333.46   \n",
              "4                10.99            63.25              154.13   \n",
              "5                 3.89            21.33               54.04   \n",
              "6                29.97            53.58              730.12   \n",
              "7                19.31            73.52              492.76   \n",
              "8                14.92            45.47              178.79   \n",
              "9                25.94            27.09              372.37   \n",
              "\n",
              "   robberies_percapita  \n",
              "0               286.13  \n",
              "1               100.46  \n",
              "2               792.32  \n",
              "3               146.58  \n",
              "4               176.10  \n",
              "5               116.79  \n",
              "6              1047.91  \n",
              "7              1262.42  \n",
              "8               554.14  \n",
              "9               313.62  "
            ]
          },
          "execution_count": 21,
          "metadata": {},
          "output_type": "execute_result"
        }
      ],
      "source": [
        "df.head(10)"
      ]
    },
    {
      "cell_type": "markdown",
      "metadata": {
        "id": "cyOWbPcDRVPd"
      },
      "source": [
        "> To check the structure of dataframe, I used shape function. The dataframe has 2829 rows and 15 columns\n",
        "\n",
        "$2829 * 15$"
      ]
    },
    {
      "cell_type": "code",
      "execution_count": null,
      "metadata": {
        "colab": {
          "base_uri": "https://localhost:8080/"
        },
        "id": "lZHwd0rifHTo",
        "outputId": "3314a42a-a998-4276-eb56-8a513b948859"
      },
      "outputs": [
        {
          "data": {
            "text/plain": [
              "(2829, 15)"
            ]
          },
          "execution_count": 22,
          "metadata": {},
          "output_type": "execute_result"
        }
      ],
      "source": [
        "df.shape"
      ]
    },
    {
      "cell_type": "markdown",
      "metadata": {
        "id": "-PTBIOZJRwwi"
      },
      "source": [
        "> Describe function provides overall structure of each column such as: count, mean, standard deviation, interquartile range and so forth."
      ]
    },
    {
      "cell_type": "code",
      "execution_count": null,
      "metadata": {
        "colab": {
          "base_uri": "https://localhost:8080/",
          "height": 364
        },
        "id": "P4lUioiFeVcZ",
        "outputId": "b6625f40-440f-4e27-c98f-84befbe2a8f4"
      },
      "outputs": [
        {
          "data": {
            "text/html": [
              "\n",
              "  <div id=\"df-e845bcb2-0467-4b3e-8fb1-0ab2a33f157d\">\n",
              "    <div class=\"colab-df-container\">\n",
              "      <div>\n",
              "<style scoped>\n",
              "    .dataframe tbody tr th:only-of-type {\n",
              "        vertical-align: middle;\n",
              "    }\n",
              "\n",
              "    .dataframe tbody tr th {\n",
              "        vertical-align: top;\n",
              "    }\n",
              "\n",
              "    .dataframe thead th {\n",
              "        text-align: right;\n",
              "    }\n",
              "</style>\n",
              "<table border=\"1\" class=\"dataframe\">\n",
              "  <thead>\n",
              "    <tr style=\"text-align: right;\">\n",
              "      <th></th>\n",
              "      <th>report_year</th>\n",
              "      <th>population</th>\n",
              "      <th>violent_crimes</th>\n",
              "      <th>homicides</th>\n",
              "      <th>rapes</th>\n",
              "      <th>assaults</th>\n",
              "      <th>robberies</th>\n",
              "      <th>months_reported</th>\n",
              "      <th>crimes_percapita</th>\n",
              "      <th>homicides_percapita</th>\n",
              "      <th>rapes_percapita</th>\n",
              "      <th>assaults_percapita</th>\n",
              "      <th>robberies_percapita</th>\n",
              "    </tr>\n",
              "  </thead>\n",
              "  <tbody>\n",
              "    <tr>\n",
              "      <th>count</th>\n",
              "      <td>2829.000000</td>\n",
              "      <td>2.760000e+03</td>\n",
              "      <td>2.794000e+03</td>\n",
              "      <td>2795.000000</td>\n",
              "      <td>2754.000000</td>\n",
              "      <td>2753.000000</td>\n",
              "      <td>2754.000000</td>\n",
              "      <td>2692.000000</td>\n",
              "      <td>2794.000000</td>\n",
              "      <td>2795.000000</td>\n",
              "      <td>2754.000000</td>\n",
              "      <td>2753.000000</td>\n",
              "      <td>2754.000000</td>\n",
              "    </tr>\n",
              "    <tr>\n",
              "      <th>mean</th>\n",
              "      <td>1995.000000</td>\n",
              "      <td>7.956981e+05</td>\n",
              "      <td>2.963255e+04</td>\n",
              "      <td>398.385331</td>\n",
              "      <td>416.278867</td>\n",
              "      <td>4405.146023</td>\n",
              "      <td>4000.245098</td>\n",
              "      <td>11.868871</td>\n",
              "      <td>1093.049810</td>\n",
              "      <td>15.372812</td>\n",
              "      <td>59.305167</td>\n",
              "      <td>566.595434</td>\n",
              "      <td>459.968112</td>\n",
              "    </tr>\n",
              "    <tr>\n",
              "      <th>std</th>\n",
              "      <td>11.834251</td>\n",
              "      <td>1.012451e+06</td>\n",
              "      <td>1.728630e+05</td>\n",
              "      <td>2281.276402</td>\n",
              "      <td>479.811934</td>\n",
              "      <td>6977.293769</td>\n",
              "      <td>8653.902965</td>\n",
              "      <td>1.118194</td>\n",
              "      <td>676.884678</td>\n",
              "      <td>12.350640</td>\n",
              "      <td>31.971570</td>\n",
              "      <td>369.436996</td>\n",
              "      <td>340.903534</td>\n",
              "    </tr>\n",
              "    <tr>\n",
              "      <th>min</th>\n",
              "      <td>1975.000000</td>\n",
              "      <td>1.007630e+05</td>\n",
              "      <td>1.540000e+02</td>\n",
              "      <td>1.000000</td>\n",
              "      <td>15.000000</td>\n",
              "      <td>15.000000</td>\n",
              "      <td>83.000000</td>\n",
              "      <td>0.000000</td>\n",
              "      <td>16.490000</td>\n",
              "      <td>0.210000</td>\n",
              "      <td>1.640000</td>\n",
              "      <td>1.610000</td>\n",
              "      <td>11.460000</td>\n",
              "    </tr>\n",
              "    <tr>\n",
              "      <th>25%</th>\n",
              "      <td>1985.000000</td>\n",
              "      <td>3.779310e+05</td>\n",
              "      <td>3.014750e+03</td>\n",
              "      <td>32.000000</td>\n",
              "      <td>176.250000</td>\n",
              "      <td>1467.000000</td>\n",
              "      <td>1032.000000</td>\n",
              "      <td>12.000000</td>\n",
              "      <td>625.082500</td>\n",
              "      <td>6.955000</td>\n",
              "      <td>35.775000</td>\n",
              "      <td>319.090000</td>\n",
              "      <td>210.242500</td>\n",
              "    </tr>\n",
              "    <tr>\n",
              "      <th>50%</th>\n",
              "      <td>1995.000000</td>\n",
              "      <td>5.366145e+05</td>\n",
              "      <td>5.135500e+03</td>\n",
              "      <td>64.000000</td>\n",
              "      <td>291.000000</td>\n",
              "      <td>2597.000000</td>\n",
              "      <td>1940.000000</td>\n",
              "      <td>12.000000</td>\n",
              "      <td>949.680000</td>\n",
              "      <td>11.980000</td>\n",
              "      <td>55.900000</td>\n",
              "      <td>487.480000</td>\n",
              "      <td>374.400000</td>\n",
              "    </tr>\n",
              "    <tr>\n",
              "      <th>75%</th>\n",
              "      <td>2005.000000</td>\n",
              "      <td>8.168558e+05</td>\n",
              "      <td>9.058500e+03</td>\n",
              "      <td>131.000000</td>\n",
              "      <td>465.000000</td>\n",
              "      <td>4556.000000</td>\n",
              "      <td>3609.750000</td>\n",
              "      <td>12.000000</td>\n",
              "      <td>1409.507500</td>\n",
              "      <td>20.230000</td>\n",
              "      <td>77.797500</td>\n",
              "      <td>728.240000</td>\n",
              "      <td>612.005000</td>\n",
              "    </tr>\n",
              "    <tr>\n",
              "      <th>max</th>\n",
              "      <td>2015.000000</td>\n",
              "      <td>8.550861e+06</td>\n",
              "      <td>1.932274e+06</td>\n",
              "      <td>24703.000000</td>\n",
              "      <td>3899.000000</td>\n",
              "      <td>71030.000000</td>\n",
              "      <td>107475.000000</td>\n",
              "      <td>12.000000</td>\n",
              "      <td>4352.830000</td>\n",
              "      <td>94.740000</td>\n",
              "      <td>199.300000</td>\n",
              "      <td>2368.220000</td>\n",
              "      <td>2337.520000</td>\n",
              "    </tr>\n",
              "  </tbody>\n",
              "</table>\n",
              "</div>\n",
              "      <button class=\"colab-df-convert\" onclick=\"convertToInteractive('df-e845bcb2-0467-4b3e-8fb1-0ab2a33f157d')\"\n",
              "              title=\"Convert this dataframe to an interactive table.\"\n",
              "              style=\"display:none;\">\n",
              "        \n",
              "  <svg xmlns=\"http://www.w3.org/2000/svg\" height=\"24px\"viewBox=\"0 0 24 24\"\n",
              "       width=\"24px\">\n",
              "    <path d=\"M0 0h24v24H0V0z\" fill=\"none\"/>\n",
              "    <path d=\"M18.56 5.44l.94 2.06.94-2.06 2.06-.94-2.06-.94-.94-2.06-.94 2.06-2.06.94zm-11 1L8.5 8.5l.94-2.06 2.06-.94-2.06-.94L8.5 2.5l-.94 2.06-2.06.94zm10 10l.94 2.06.94-2.06 2.06-.94-2.06-.94-.94-2.06-.94 2.06-2.06.94z\"/><path d=\"M17.41 7.96l-1.37-1.37c-.4-.4-.92-.59-1.43-.59-.52 0-1.04.2-1.43.59L10.3 9.45l-7.72 7.72c-.78.78-.78 2.05 0 2.83L4 21.41c.39.39.9.59 1.41.59.51 0 1.02-.2 1.41-.59l7.78-7.78 2.81-2.81c.8-.78.8-2.07 0-2.86zM5.41 20L4 18.59l7.72-7.72 1.47 1.35L5.41 20z\"/>\n",
              "  </svg>\n",
              "      </button>\n",
              "      \n",
              "  <style>\n",
              "    .colab-df-container {\n",
              "      display:flex;\n",
              "      flex-wrap:wrap;\n",
              "      gap: 12px;\n",
              "    }\n",
              "\n",
              "    .colab-df-convert {\n",
              "      background-color: #E8F0FE;\n",
              "      border: none;\n",
              "      border-radius: 50%;\n",
              "      cursor: pointer;\n",
              "      display: none;\n",
              "      fill: #1967D2;\n",
              "      height: 32px;\n",
              "      padding: 0 0 0 0;\n",
              "      width: 32px;\n",
              "    }\n",
              "\n",
              "    .colab-df-convert:hover {\n",
              "      background-color: #E2EBFA;\n",
              "      box-shadow: 0px 1px 2px rgba(60, 64, 67, 0.3), 0px 1px 3px 1px rgba(60, 64, 67, 0.15);\n",
              "      fill: #174EA6;\n",
              "    }\n",
              "\n",
              "    [theme=dark] .colab-df-convert {\n",
              "      background-color: #3B4455;\n",
              "      fill: #D2E3FC;\n",
              "    }\n",
              "\n",
              "    [theme=dark] .colab-df-convert:hover {\n",
              "      background-color: #434B5C;\n",
              "      box-shadow: 0px 1px 3px 1px rgba(0, 0, 0, 0.15);\n",
              "      filter: drop-shadow(0px 1px 2px rgba(0, 0, 0, 0.3));\n",
              "      fill: #FFFFFF;\n",
              "    }\n",
              "  </style>\n",
              "\n",
              "      <script>\n",
              "        const buttonEl =\n",
              "          document.querySelector('#df-e845bcb2-0467-4b3e-8fb1-0ab2a33f157d button.colab-df-convert');\n",
              "        buttonEl.style.display =\n",
              "          google.colab.kernel.accessAllowed ? 'block' : 'none';\n",
              "\n",
              "        async function convertToInteractive(key) {\n",
              "          const element = document.querySelector('#df-e845bcb2-0467-4b3e-8fb1-0ab2a33f157d');\n",
              "          const dataTable =\n",
              "            await google.colab.kernel.invokeFunction('convertToInteractive',\n",
              "                                                     [key], {});\n",
              "          if (!dataTable) return;\n",
              "\n",
              "          const docLinkHtml = 'Like what you see? Visit the ' +\n",
              "            '<a target=\"_blank\" href=https://colab.research.google.com/notebooks/data_table.ipynb>data table notebook</a>'\n",
              "            + ' to learn more about interactive tables.';\n",
              "          element.innerHTML = '';\n",
              "          dataTable['output_type'] = 'display_data';\n",
              "          await google.colab.output.renderOutput(dataTable, element);\n",
              "          const docLink = document.createElement('div');\n",
              "          docLink.innerHTML = docLinkHtml;\n",
              "          element.appendChild(docLink);\n",
              "        }\n",
              "      </script>\n",
              "    </div>\n",
              "  </div>\n",
              "  "
            ],
            "text/plain": [
              "       report_year    population  violent_crimes     homicides        rapes  \\\n",
              "count  2829.000000  2.760000e+03    2.794000e+03   2795.000000  2754.000000   \n",
              "mean   1995.000000  7.956981e+05    2.963255e+04    398.385331   416.278867   \n",
              "std      11.834251  1.012451e+06    1.728630e+05   2281.276402   479.811934   \n",
              "min    1975.000000  1.007630e+05    1.540000e+02      1.000000    15.000000   \n",
              "25%    1985.000000  3.779310e+05    3.014750e+03     32.000000   176.250000   \n",
              "50%    1995.000000  5.366145e+05    5.135500e+03     64.000000   291.000000   \n",
              "75%    2005.000000  8.168558e+05    9.058500e+03    131.000000   465.000000   \n",
              "max    2015.000000  8.550861e+06    1.932274e+06  24703.000000  3899.000000   \n",
              "\n",
              "           assaults      robberies  months_reported  crimes_percapita  \\\n",
              "count   2753.000000    2754.000000      2692.000000       2794.000000   \n",
              "mean    4405.146023    4000.245098        11.868871       1093.049810   \n",
              "std     6977.293769    8653.902965         1.118194        676.884678   \n",
              "min       15.000000      83.000000         0.000000         16.490000   \n",
              "25%     1467.000000    1032.000000        12.000000        625.082500   \n",
              "50%     2597.000000    1940.000000        12.000000        949.680000   \n",
              "75%     4556.000000    3609.750000        12.000000       1409.507500   \n",
              "max    71030.000000  107475.000000        12.000000       4352.830000   \n",
              "\n",
              "       homicides_percapita  rapes_percapita  assaults_percapita  \\\n",
              "count          2795.000000      2754.000000         2753.000000   \n",
              "mean             15.372812        59.305167          566.595434   \n",
              "std              12.350640        31.971570          369.436996   \n",
              "min               0.210000         1.640000            1.610000   \n",
              "25%               6.955000        35.775000          319.090000   \n",
              "50%              11.980000        55.900000          487.480000   \n",
              "75%              20.230000        77.797500          728.240000   \n",
              "max              94.740000       199.300000         2368.220000   \n",
              "\n",
              "       robberies_percapita  \n",
              "count          2754.000000  \n",
              "mean            459.968112  \n",
              "std             340.903534  \n",
              "min              11.460000  \n",
              "25%             210.242500  \n",
              "50%             374.400000  \n",
              "75%             612.005000  \n",
              "max            2337.520000  "
            ]
          },
          "execution_count": 23,
          "metadata": {},
          "output_type": "execute_result"
        }
      ],
      "source": [
        "df.describe()"
      ]
    },
    {
      "cell_type": "markdown",
      "metadata": {
        "id": "kUnD8gG5SIRQ"
      },
      "source": [
        "> isnull function is used to check if the dataframe has any null values and then I used the sum function to add all the null values and the empty values in each column.\n",
        "\n",
        "> Below output denotes the sum of null values and empty values in each columns."
      ]
    },
    {
      "cell_type": "code",
      "execution_count": null,
      "metadata": {
        "colab": {
          "base_uri": "https://localhost:8080/",
          "height": 520
        },
        "id": "Tzpe8msSgfMw",
        "outputId": "cfcf6901-e408-4862-a9c8-67f5e68a72bc"
      },
      "outputs": [
        {
          "data": {
            "text/html": [
              "\n",
              "  <div id=\"df-8e66b92e-c589-4dc6-9111-e77c4e6486f1\">\n",
              "    <div class=\"colab-df-container\">\n",
              "      <div>\n",
              "<style scoped>\n",
              "    .dataframe tbody tr th:only-of-type {\n",
              "        vertical-align: middle;\n",
              "    }\n",
              "\n",
              "    .dataframe tbody tr th {\n",
              "        vertical-align: top;\n",
              "    }\n",
              "\n",
              "    .dataframe thead th {\n",
              "        text-align: right;\n",
              "    }\n",
              "</style>\n",
              "<table border=\"1\" class=\"dataframe\">\n",
              "  <thead>\n",
              "    <tr style=\"text-align: right;\">\n",
              "      <th></th>\n",
              "      <th>Nulls</th>\n",
              "      <th>Empty</th>\n",
              "    </tr>\n",
              "  </thead>\n",
              "  <tbody>\n",
              "    <tr>\n",
              "      <th>report_year</th>\n",
              "      <td>0</td>\n",
              "      <td>0</td>\n",
              "    </tr>\n",
              "    <tr>\n",
              "      <th>agency_code</th>\n",
              "      <td>41</td>\n",
              "      <td>0</td>\n",
              "    </tr>\n",
              "    <tr>\n",
              "      <th>agency_jurisdiction</th>\n",
              "      <td>0</td>\n",
              "      <td>0</td>\n",
              "    </tr>\n",
              "    <tr>\n",
              "      <th>population</th>\n",
              "      <td>69</td>\n",
              "      <td>0</td>\n",
              "    </tr>\n",
              "    <tr>\n",
              "      <th>violent_crimes</th>\n",
              "      <td>35</td>\n",
              "      <td>0</td>\n",
              "    </tr>\n",
              "    <tr>\n",
              "      <th>homicides</th>\n",
              "      <td>34</td>\n",
              "      <td>0</td>\n",
              "    </tr>\n",
              "    <tr>\n",
              "      <th>rapes</th>\n",
              "      <td>75</td>\n",
              "      <td>0</td>\n",
              "    </tr>\n",
              "    <tr>\n",
              "      <th>assaults</th>\n",
              "      <td>76</td>\n",
              "      <td>0</td>\n",
              "    </tr>\n",
              "    <tr>\n",
              "      <th>robberies</th>\n",
              "      <td>75</td>\n",
              "      <td>0</td>\n",
              "    </tr>\n",
              "    <tr>\n",
              "      <th>months_reported</th>\n",
              "      <td>137</td>\n",
              "      <td>0</td>\n",
              "    </tr>\n",
              "    <tr>\n",
              "      <th>crimes_percapita</th>\n",
              "      <td>35</td>\n",
              "      <td>0</td>\n",
              "    </tr>\n",
              "    <tr>\n",
              "      <th>homicides_percapita</th>\n",
              "      <td>34</td>\n",
              "      <td>0</td>\n",
              "    </tr>\n",
              "    <tr>\n",
              "      <th>rapes_percapita</th>\n",
              "      <td>75</td>\n",
              "      <td>0</td>\n",
              "    </tr>\n",
              "    <tr>\n",
              "      <th>assaults_percapita</th>\n",
              "      <td>76</td>\n",
              "      <td>0</td>\n",
              "    </tr>\n",
              "    <tr>\n",
              "      <th>robberies_percapita</th>\n",
              "      <td>75</td>\n",
              "      <td>0</td>\n",
              "    </tr>\n",
              "  </tbody>\n",
              "</table>\n",
              "</div>\n",
              "      <button class=\"colab-df-convert\" onclick=\"convertToInteractive('df-8e66b92e-c589-4dc6-9111-e77c4e6486f1')\"\n",
              "              title=\"Convert this dataframe to an interactive table.\"\n",
              "              style=\"display:none;\">\n",
              "        \n",
              "  <svg xmlns=\"http://www.w3.org/2000/svg\" height=\"24px\"viewBox=\"0 0 24 24\"\n",
              "       width=\"24px\">\n",
              "    <path d=\"M0 0h24v24H0V0z\" fill=\"none\"/>\n",
              "    <path d=\"M18.56 5.44l.94 2.06.94-2.06 2.06-.94-2.06-.94-.94-2.06-.94 2.06-2.06.94zm-11 1L8.5 8.5l.94-2.06 2.06-.94-2.06-.94L8.5 2.5l-.94 2.06-2.06.94zm10 10l.94 2.06.94-2.06 2.06-.94-2.06-.94-.94-2.06-.94 2.06-2.06.94z\"/><path d=\"M17.41 7.96l-1.37-1.37c-.4-.4-.92-.59-1.43-.59-.52 0-1.04.2-1.43.59L10.3 9.45l-7.72 7.72c-.78.78-.78 2.05 0 2.83L4 21.41c.39.39.9.59 1.41.59.51 0 1.02-.2 1.41-.59l7.78-7.78 2.81-2.81c.8-.78.8-2.07 0-2.86zM5.41 20L4 18.59l7.72-7.72 1.47 1.35L5.41 20z\"/>\n",
              "  </svg>\n",
              "      </button>\n",
              "      \n",
              "  <style>\n",
              "    .colab-df-container {\n",
              "      display:flex;\n",
              "      flex-wrap:wrap;\n",
              "      gap: 12px;\n",
              "    }\n",
              "\n",
              "    .colab-df-convert {\n",
              "      background-color: #E8F0FE;\n",
              "      border: none;\n",
              "      border-radius: 50%;\n",
              "      cursor: pointer;\n",
              "      display: none;\n",
              "      fill: #1967D2;\n",
              "      height: 32px;\n",
              "      padding: 0 0 0 0;\n",
              "      width: 32px;\n",
              "    }\n",
              "\n",
              "    .colab-df-convert:hover {\n",
              "      background-color: #E2EBFA;\n",
              "      box-shadow: 0px 1px 2px rgba(60, 64, 67, 0.3), 0px 1px 3px 1px rgba(60, 64, 67, 0.15);\n",
              "      fill: #174EA6;\n",
              "    }\n",
              "\n",
              "    [theme=dark] .colab-df-convert {\n",
              "      background-color: #3B4455;\n",
              "      fill: #D2E3FC;\n",
              "    }\n",
              "\n",
              "    [theme=dark] .colab-df-convert:hover {\n",
              "      background-color: #434B5C;\n",
              "      box-shadow: 0px 1px 3px 1px rgba(0, 0, 0, 0.15);\n",
              "      filter: drop-shadow(0px 1px 2px rgba(0, 0, 0, 0.3));\n",
              "      fill: #FFFFFF;\n",
              "    }\n",
              "  </style>\n",
              "\n",
              "      <script>\n",
              "        const buttonEl =\n",
              "          document.querySelector('#df-8e66b92e-c589-4dc6-9111-e77c4e6486f1 button.colab-df-convert');\n",
              "        buttonEl.style.display =\n",
              "          google.colab.kernel.accessAllowed ? 'block' : 'none';\n",
              "\n",
              "        async function convertToInteractive(key) {\n",
              "          const element = document.querySelector('#df-8e66b92e-c589-4dc6-9111-e77c4e6486f1');\n",
              "          const dataTable =\n",
              "            await google.colab.kernel.invokeFunction('convertToInteractive',\n",
              "                                                     [key], {});\n",
              "          if (!dataTable) return;\n",
              "\n",
              "          const docLinkHtml = 'Like what you see? Visit the ' +\n",
              "            '<a target=\"_blank\" href=https://colab.research.google.com/notebooks/data_table.ipynb>data table notebook</a>'\n",
              "            + ' to learn more about interactive tables.';\n",
              "          element.innerHTML = '';\n",
              "          dataTable['output_type'] = 'display_data';\n",
              "          await google.colab.output.renderOutput(dataTable, element);\n",
              "          const docLink = document.createElement('div');\n",
              "          docLink.innerHTML = docLinkHtml;\n",
              "          element.appendChild(docLink);\n",
              "        }\n",
              "      </script>\n",
              "    </div>\n",
              "  </div>\n",
              "  "
            ],
            "text/plain": [
              "                     Nulls  Empty\n",
              "report_year              0      0\n",
              "agency_code             41      0\n",
              "agency_jurisdiction      0      0\n",
              "population              69      0\n",
              "violent_crimes          35      0\n",
              "homicides               34      0\n",
              "rapes                   75      0\n",
              "assaults                76      0\n",
              "robberies               75      0\n",
              "months_reported        137      0\n",
              "crimes_percapita        35      0\n",
              "homicides_percapita     34      0\n",
              "rapes_percapita         75      0\n",
              "assaults_percapita      76      0\n",
              "robberies_percapita     75      0"
            ]
          },
          "execution_count": 24,
          "metadata": {},
          "output_type": "execute_result"
        }
      ],
      "source": [
        "df_null = pd.concat([df.isnull().sum(),df.eq('').sum()],keys=['Nulls','Empty'],axis=1)\n",
        "df_null"
      ]
    },
    {
      "cell_type": "markdown",
      "metadata": {
        "id": "x2yra2fN_-bb"
      },
      "source": [
        "> We'll get rid of all the rows of column \"agency_code\" that has any null values using .notna function which print the dataframe again without any null value rows.\n",
        "\n",
        "> As you can see the number of rows dropped from 2829 to 2788 with same number of columns."
      ]
    },
    {
      "cell_type": "code",
      "execution_count": null,
      "metadata": {
        "colab": {
          "base_uri": "https://localhost:8080/"
        },
        "id": "O1rSxBl6iJ_j",
        "outputId": "de09cdd3-30a3-4346-c650-29baee1b2ff6"
      },
      "outputs": [
        {
          "data": {
            "text/plain": [
              "(2788, 15)"
            ]
          },
          "execution_count": 25,
          "metadata": {},
          "output_type": "execute_result"
        }
      ],
      "source": [
        "df = df[df['agency_code'].notna()]\n",
        "df.shape"
      ]
    },
    {
      "cell_type": "markdown",
      "metadata": {
        "id": "iWH0tjGlAfDg"
      },
      "source": [
        "> df.fillna(0) is used to fill any NA values in the dataframe with \"0\" ."
      ]
    },
    {
      "cell_type": "code",
      "execution_count": null,
      "metadata": {
        "id": "XlAkQgFIjKYl"
      },
      "outputs": [],
      "source": [
        "df = df.fillna(0)"
      ]
    },
    {
      "cell_type": "markdown",
      "metadata": {
        "id": "WNm3ZMzLAtAH"
      },
      "source": [
        "> After replacing all the NA values I print the above code again to prove that there are no more null and empty values in the dataframe."
      ]
    },
    {
      "cell_type": "code",
      "execution_count": null,
      "metadata": {
        "colab": {
          "base_uri": "https://localhost:8080/",
          "height": 520
        },
        "id": "fBBIsOp7jO1S",
        "outputId": "958d5d05-11e0-40eb-ee97-658f279da4ed"
      },
      "outputs": [
        {
          "data": {
            "text/html": [
              "\n",
              "  <div id=\"df-f09d2e0b-b29f-4c51-9a24-be5916799c37\">\n",
              "    <div class=\"colab-df-container\">\n",
              "      <div>\n",
              "<style scoped>\n",
              "    .dataframe tbody tr th:only-of-type {\n",
              "        vertical-align: middle;\n",
              "    }\n",
              "\n",
              "    .dataframe tbody tr th {\n",
              "        vertical-align: top;\n",
              "    }\n",
              "\n",
              "    .dataframe thead th {\n",
              "        text-align: right;\n",
              "    }\n",
              "</style>\n",
              "<table border=\"1\" class=\"dataframe\">\n",
              "  <thead>\n",
              "    <tr style=\"text-align: right;\">\n",
              "      <th></th>\n",
              "      <th>Nulls</th>\n",
              "      <th>Empty</th>\n",
              "    </tr>\n",
              "  </thead>\n",
              "  <tbody>\n",
              "    <tr>\n",
              "      <th>report_year</th>\n",
              "      <td>0</td>\n",
              "      <td>0</td>\n",
              "    </tr>\n",
              "    <tr>\n",
              "      <th>agency_code</th>\n",
              "      <td>0</td>\n",
              "      <td>0</td>\n",
              "    </tr>\n",
              "    <tr>\n",
              "      <th>agency_jurisdiction</th>\n",
              "      <td>0</td>\n",
              "      <td>0</td>\n",
              "    </tr>\n",
              "    <tr>\n",
              "      <th>population</th>\n",
              "      <td>0</td>\n",
              "      <td>0</td>\n",
              "    </tr>\n",
              "    <tr>\n",
              "      <th>violent_crimes</th>\n",
              "      <td>0</td>\n",
              "      <td>0</td>\n",
              "    </tr>\n",
              "    <tr>\n",
              "      <th>homicides</th>\n",
              "      <td>0</td>\n",
              "      <td>0</td>\n",
              "    </tr>\n",
              "    <tr>\n",
              "      <th>rapes</th>\n",
              "      <td>0</td>\n",
              "      <td>0</td>\n",
              "    </tr>\n",
              "    <tr>\n",
              "      <th>assaults</th>\n",
              "      <td>0</td>\n",
              "      <td>0</td>\n",
              "    </tr>\n",
              "    <tr>\n",
              "      <th>robberies</th>\n",
              "      <td>0</td>\n",
              "      <td>0</td>\n",
              "    </tr>\n",
              "    <tr>\n",
              "      <th>months_reported</th>\n",
              "      <td>0</td>\n",
              "      <td>0</td>\n",
              "    </tr>\n",
              "    <tr>\n",
              "      <th>crimes_percapita</th>\n",
              "      <td>0</td>\n",
              "      <td>0</td>\n",
              "    </tr>\n",
              "    <tr>\n",
              "      <th>homicides_percapita</th>\n",
              "      <td>0</td>\n",
              "      <td>0</td>\n",
              "    </tr>\n",
              "    <tr>\n",
              "      <th>rapes_percapita</th>\n",
              "      <td>0</td>\n",
              "      <td>0</td>\n",
              "    </tr>\n",
              "    <tr>\n",
              "      <th>assaults_percapita</th>\n",
              "      <td>0</td>\n",
              "      <td>0</td>\n",
              "    </tr>\n",
              "    <tr>\n",
              "      <th>robberies_percapita</th>\n",
              "      <td>0</td>\n",
              "      <td>0</td>\n",
              "    </tr>\n",
              "  </tbody>\n",
              "</table>\n",
              "</div>\n",
              "      <button class=\"colab-df-convert\" onclick=\"convertToInteractive('df-f09d2e0b-b29f-4c51-9a24-be5916799c37')\"\n",
              "              title=\"Convert this dataframe to an interactive table.\"\n",
              "              style=\"display:none;\">\n",
              "        \n",
              "  <svg xmlns=\"http://www.w3.org/2000/svg\" height=\"24px\"viewBox=\"0 0 24 24\"\n",
              "       width=\"24px\">\n",
              "    <path d=\"M0 0h24v24H0V0z\" fill=\"none\"/>\n",
              "    <path d=\"M18.56 5.44l.94 2.06.94-2.06 2.06-.94-2.06-.94-.94-2.06-.94 2.06-2.06.94zm-11 1L8.5 8.5l.94-2.06 2.06-.94-2.06-.94L8.5 2.5l-.94 2.06-2.06.94zm10 10l.94 2.06.94-2.06 2.06-.94-2.06-.94-.94-2.06-.94 2.06-2.06.94z\"/><path d=\"M17.41 7.96l-1.37-1.37c-.4-.4-.92-.59-1.43-.59-.52 0-1.04.2-1.43.59L10.3 9.45l-7.72 7.72c-.78.78-.78 2.05 0 2.83L4 21.41c.39.39.9.59 1.41.59.51 0 1.02-.2 1.41-.59l7.78-7.78 2.81-2.81c.8-.78.8-2.07 0-2.86zM5.41 20L4 18.59l7.72-7.72 1.47 1.35L5.41 20z\"/>\n",
              "  </svg>\n",
              "      </button>\n",
              "      \n",
              "  <style>\n",
              "    .colab-df-container {\n",
              "      display:flex;\n",
              "      flex-wrap:wrap;\n",
              "      gap: 12px;\n",
              "    }\n",
              "\n",
              "    .colab-df-convert {\n",
              "      background-color: #E8F0FE;\n",
              "      border: none;\n",
              "      border-radius: 50%;\n",
              "      cursor: pointer;\n",
              "      display: none;\n",
              "      fill: #1967D2;\n",
              "      height: 32px;\n",
              "      padding: 0 0 0 0;\n",
              "      width: 32px;\n",
              "    }\n",
              "\n",
              "    .colab-df-convert:hover {\n",
              "      background-color: #E2EBFA;\n",
              "      box-shadow: 0px 1px 2px rgba(60, 64, 67, 0.3), 0px 1px 3px 1px rgba(60, 64, 67, 0.15);\n",
              "      fill: #174EA6;\n",
              "    }\n",
              "\n",
              "    [theme=dark] .colab-df-convert {\n",
              "      background-color: #3B4455;\n",
              "      fill: #D2E3FC;\n",
              "    }\n",
              "\n",
              "    [theme=dark] .colab-df-convert:hover {\n",
              "      background-color: #434B5C;\n",
              "      box-shadow: 0px 1px 3px 1px rgba(0, 0, 0, 0.15);\n",
              "      filter: drop-shadow(0px 1px 2px rgba(0, 0, 0, 0.3));\n",
              "      fill: #FFFFFF;\n",
              "    }\n",
              "  </style>\n",
              "\n",
              "      <script>\n",
              "        const buttonEl =\n",
              "          document.querySelector('#df-f09d2e0b-b29f-4c51-9a24-be5916799c37 button.colab-df-convert');\n",
              "        buttonEl.style.display =\n",
              "          google.colab.kernel.accessAllowed ? 'block' : 'none';\n",
              "\n",
              "        async function convertToInteractive(key) {\n",
              "          const element = document.querySelector('#df-f09d2e0b-b29f-4c51-9a24-be5916799c37');\n",
              "          const dataTable =\n",
              "            await google.colab.kernel.invokeFunction('convertToInteractive',\n",
              "                                                     [key], {});\n",
              "          if (!dataTable) return;\n",
              "\n",
              "          const docLinkHtml = 'Like what you see? Visit the ' +\n",
              "            '<a target=\"_blank\" href=https://colab.research.google.com/notebooks/data_table.ipynb>data table notebook</a>'\n",
              "            + ' to learn more about interactive tables.';\n",
              "          element.innerHTML = '';\n",
              "          dataTable['output_type'] = 'display_data';\n",
              "          await google.colab.output.renderOutput(dataTable, element);\n",
              "          const docLink = document.createElement('div');\n",
              "          docLink.innerHTML = docLinkHtml;\n",
              "          element.appendChild(docLink);\n",
              "        }\n",
              "      </script>\n",
              "    </div>\n",
              "  </div>\n",
              "  "
            ],
            "text/plain": [
              "                     Nulls  Empty\n",
              "report_year              0      0\n",
              "agency_code              0      0\n",
              "agency_jurisdiction      0      0\n",
              "population               0      0\n",
              "violent_crimes           0      0\n",
              "homicides                0      0\n",
              "rapes                    0      0\n",
              "assaults                 0      0\n",
              "robberies                0      0\n",
              "months_reported          0      0\n",
              "crimes_percapita         0      0\n",
              "homicides_percapita      0      0\n",
              "rapes_percapita          0      0\n",
              "assaults_percapita       0      0\n",
              "robberies_percapita      0      0"
            ]
          },
          "execution_count": 27,
          "metadata": {},
          "output_type": "execute_result"
        }
      ],
      "source": [
        "df_null=pd.concat([df.isnull().sum(),df.eq('').sum()],keys=['Nulls','Empty'],axis=1)\n",
        "df_null"
      ]
    },
    {
      "cell_type": "markdown",
      "metadata": {
        "id": "tI2uERLoBABM"
      },
      "source": [
        "> df.info provides information about the dataframe."
      ]
    },
    {
      "cell_type": "code",
      "execution_count": null,
      "metadata": {
        "colab": {
          "base_uri": "https://localhost:8080/"
        },
        "id": "bSb7du11e8h6",
        "outputId": "38a58c58-866b-4c21-e6a1-c131de6c1247"
      },
      "outputs": [
        {
          "data": {
            "text/plain": [
              "<bound method DataFrame.info of       report_year agency_code agency_jurisdiction  population  violent_crimes  \\\n",
              "0            1975     NM00101     Albuquerque, NM    286238.0          2383.0   \n",
              "1            1975     TX22001       Arlington, TX    112478.0           278.0   \n",
              "2            1975     GAAPD00         Atlanta, GA    490584.0          8033.0   \n",
              "3            1975     CO00101          Aurora, CO    116656.0           611.0   \n",
              "4            1975     TX22701          Austin, TX    300400.0          1215.0   \n",
              "...           ...         ...                 ...         ...             ...   \n",
              "2823         2015     AZ01003          Tucson, AZ    529675.0          3472.0   \n",
              "2824         2015     OK07205           Tulsa, OK    401520.0          3628.0   \n",
              "2825         2015     VA12800  Virginia Beach, VA    452797.0           626.0   \n",
              "2826         2015     DCMPD00      Washington, DC    672228.0          8084.0   \n",
              "2827         2015     KS08703         Wichita, KS    389824.0          3839.0   \n",
              "\n",
              "      homicides  rapes  assaults  robberies  months_reported  \\\n",
              "0          30.0  181.0    1353.0      819.0             12.0   \n",
              "1           5.0   28.0     132.0      113.0             12.0   \n",
              "2         185.0  443.0    3518.0     3887.0             12.0   \n",
              "3           7.0   44.0     389.0      171.0             12.0   \n",
              "4          33.0  190.0     463.0      529.0             12.0   \n",
              "...         ...    ...       ...        ...              ...   \n",
              "2823       31.0  422.0    1960.0     1059.0              0.0   \n",
              "2824       55.0  365.0    2354.0      854.0              0.0   \n",
              "2825       19.0  103.0     234.0      270.0              0.0   \n",
              "2826      162.0  494.0    4024.0     3404.0              0.0   \n",
              "2827       27.0  349.0    2730.0      733.0              0.0   \n",
              "\n",
              "      crimes_percapita  homicides_percapita  rapes_percapita  \\\n",
              "0               832.52                10.48            63.23   \n",
              "1               247.16                 4.45            24.89   \n",
              "2              1637.44                37.71            90.30   \n",
              "3               523.76                 6.00            37.72   \n",
              "4               404.46                10.99            63.25   \n",
              "...                ...                  ...              ...   \n",
              "2823            655.50                 5.85            79.67   \n",
              "2824            903.57                13.70            90.90   \n",
              "2825            138.25                 4.20            22.75   \n",
              "2826           1202.57                24.10            73.49   \n",
              "2827            984.80                 6.93            89.53   \n",
              "\n",
              "      assaults_percapita  robberies_percapita  \n",
              "0                 472.68               286.13  \n",
              "1                 117.36               100.46  \n",
              "2                 717.10               792.32  \n",
              "3                 333.46               146.58  \n",
              "4                 154.13               176.10  \n",
              "...                  ...                  ...  \n",
              "2823              370.04               199.93  \n",
              "2824              586.27               212.69  \n",
              "2825               51.68                59.63  \n",
              "2826              598.61               506.38  \n",
              "2827              700.32               188.03  \n",
              "\n",
              "[2788 rows x 15 columns]>"
            ]
          },
          "execution_count": 28,
          "metadata": {},
          "output_type": "execute_result"
        }
      ],
      "source": [
        "df.info"
      ]
    },
    {
      "cell_type": "markdown",
      "metadata": {
        "id": "Otb9oPFhgE4x"
      },
      "source": [
        "---"
      ]
    },
    {
      "cell_type": "markdown",
      "metadata": {
        "id": "K3ZAdjXwfzsX"
      },
      "source": [
        "## One column selection"
      ]
    },
    {
      "cell_type": "markdown",
      "metadata": {
        "id": "pC6T6WE_yZnj"
      },
      "source": [
        "> I have selected column **violet crimes** as my target variable. The reason for selecting violet_crimes is because I wanted to check which agengy jurisdiction had the highest overall crime and in which year.\n",
        "\n",
        "> For that I have sorted the **violent crimes** column in descending to provide top 10 agency jurisdiction with highest violent crime and in what year."
      ]
    },
    {
      "cell_type": "code",
      "execution_count": null,
      "metadata": {
        "colab": {
          "base_uri": "https://localhost:8080/",
          "height": 363
        },
        "id": "al35TEiWryMP",
        "outputId": "69f8b9bc-eb35-4a93-b4b0-e7548e2a082a"
      },
      "outputs": [
        {
          "data": {
            "text/html": [
              "\n",
              "  <div id=\"df-16714883-0bdd-475a-a3f6-37b97fd7900d\">\n",
              "    <div class=\"colab-df-container\">\n",
              "      <div>\n",
              "<style scoped>\n",
              "    .dataframe tbody tr th:only-of-type {\n",
              "        vertical-align: middle;\n",
              "    }\n",
              "\n",
              "    .dataframe tbody tr th {\n",
              "        vertical-align: top;\n",
              "    }\n",
              "\n",
              "    .dataframe thead th {\n",
              "        text-align: right;\n",
              "    }\n",
              "</style>\n",
              "<table border=\"1\" class=\"dataframe\">\n",
              "  <thead>\n",
              "    <tr style=\"text-align: right;\">\n",
              "      <th></th>\n",
              "      <th>report_year</th>\n",
              "      <th>violent_crimes</th>\n",
              "      <th>agency_jurisdiction</th>\n",
              "    </tr>\n",
              "  </thead>\n",
              "  <tbody>\n",
              "    <tr>\n",
              "      <th>1076</th>\n",
              "      <td>1990</td>\n",
              "      <td>174542.0</td>\n",
              "      <td>New York City, NY</td>\n",
              "    </tr>\n",
              "    <tr>\n",
              "      <th>1145</th>\n",
              "      <td>1991</td>\n",
              "      <td>170390.0</td>\n",
              "      <td>New York City, NY</td>\n",
              "    </tr>\n",
              "    <tr>\n",
              "      <th>1007</th>\n",
              "      <td>1989</td>\n",
              "      <td>169487.0</td>\n",
              "      <td>New York City, NY</td>\n",
              "    </tr>\n",
              "    <tr>\n",
              "      <th>938</th>\n",
              "      <td>1988</td>\n",
              "      <td>162916.0</td>\n",
              "      <td>New York City, NY</td>\n",
              "    </tr>\n",
              "    <tr>\n",
              "      <th>1214</th>\n",
              "      <td>1992</td>\n",
              "      <td>159578.0</td>\n",
              "      <td>New York City, NY</td>\n",
              "    </tr>\n",
              "    <tr>\n",
              "      <th>455</th>\n",
              "      <td>1981</td>\n",
              "      <td>156946.0</td>\n",
              "      <td>New York City, NY</td>\n",
              "    </tr>\n",
              "    <tr>\n",
              "      <th>1283</th>\n",
              "      <td>1993</td>\n",
              "      <td>153543.0</td>\n",
              "      <td>New York City, NY</td>\n",
              "    </tr>\n",
              "    <tr>\n",
              "      <th>386</th>\n",
              "      <td>1980</td>\n",
              "      <td>149549.0</td>\n",
              "      <td>New York City, NY</td>\n",
              "    </tr>\n",
              "    <tr>\n",
              "      <th>869</th>\n",
              "      <td>1987</td>\n",
              "      <td>148313.0</td>\n",
              "      <td>New York City, NY</td>\n",
              "    </tr>\n",
              "    <tr>\n",
              "      <th>524</th>\n",
              "      <td>1982</td>\n",
              "      <td>143943.0</td>\n",
              "      <td>New York City, NY</td>\n",
              "    </tr>\n",
              "  </tbody>\n",
              "</table>\n",
              "</div>\n",
              "      <button class=\"colab-df-convert\" onclick=\"convertToInteractive('df-16714883-0bdd-475a-a3f6-37b97fd7900d')\"\n",
              "              title=\"Convert this dataframe to an interactive table.\"\n",
              "              style=\"display:none;\">\n",
              "        \n",
              "  <svg xmlns=\"http://www.w3.org/2000/svg\" height=\"24px\"viewBox=\"0 0 24 24\"\n",
              "       width=\"24px\">\n",
              "    <path d=\"M0 0h24v24H0V0z\" fill=\"none\"/>\n",
              "    <path d=\"M18.56 5.44l.94 2.06.94-2.06 2.06-.94-2.06-.94-.94-2.06-.94 2.06-2.06.94zm-11 1L8.5 8.5l.94-2.06 2.06-.94-2.06-.94L8.5 2.5l-.94 2.06-2.06.94zm10 10l.94 2.06.94-2.06 2.06-.94-2.06-.94-.94-2.06-.94 2.06-2.06.94z\"/><path d=\"M17.41 7.96l-1.37-1.37c-.4-.4-.92-.59-1.43-.59-.52 0-1.04.2-1.43.59L10.3 9.45l-7.72 7.72c-.78.78-.78 2.05 0 2.83L4 21.41c.39.39.9.59 1.41.59.51 0 1.02-.2 1.41-.59l7.78-7.78 2.81-2.81c.8-.78.8-2.07 0-2.86zM5.41 20L4 18.59l7.72-7.72 1.47 1.35L5.41 20z\"/>\n",
              "  </svg>\n",
              "      </button>\n",
              "      \n",
              "  <style>\n",
              "    .colab-df-container {\n",
              "      display:flex;\n",
              "      flex-wrap:wrap;\n",
              "      gap: 12px;\n",
              "    }\n",
              "\n",
              "    .colab-df-convert {\n",
              "      background-color: #E8F0FE;\n",
              "      border: none;\n",
              "      border-radius: 50%;\n",
              "      cursor: pointer;\n",
              "      display: none;\n",
              "      fill: #1967D2;\n",
              "      height: 32px;\n",
              "      padding: 0 0 0 0;\n",
              "      width: 32px;\n",
              "    }\n",
              "\n",
              "    .colab-df-convert:hover {\n",
              "      background-color: #E2EBFA;\n",
              "      box-shadow: 0px 1px 2px rgba(60, 64, 67, 0.3), 0px 1px 3px 1px rgba(60, 64, 67, 0.15);\n",
              "      fill: #174EA6;\n",
              "    }\n",
              "\n",
              "    [theme=dark] .colab-df-convert {\n",
              "      background-color: #3B4455;\n",
              "      fill: #D2E3FC;\n",
              "    }\n",
              "\n",
              "    [theme=dark] .colab-df-convert:hover {\n",
              "      background-color: #434B5C;\n",
              "      box-shadow: 0px 1px 3px 1px rgba(0, 0, 0, 0.15);\n",
              "      filter: drop-shadow(0px 1px 2px rgba(0, 0, 0, 0.3));\n",
              "      fill: #FFFFFF;\n",
              "    }\n",
              "  </style>\n",
              "\n",
              "      <script>\n",
              "        const buttonEl =\n",
              "          document.querySelector('#df-16714883-0bdd-475a-a3f6-37b97fd7900d button.colab-df-convert');\n",
              "        buttonEl.style.display =\n",
              "          google.colab.kernel.accessAllowed ? 'block' : 'none';\n",
              "\n",
              "        async function convertToInteractive(key) {\n",
              "          const element = document.querySelector('#df-16714883-0bdd-475a-a3f6-37b97fd7900d');\n",
              "          const dataTable =\n",
              "            await google.colab.kernel.invokeFunction('convertToInteractive',\n",
              "                                                     [key], {});\n",
              "          if (!dataTable) return;\n",
              "\n",
              "          const docLinkHtml = 'Like what you see? Visit the ' +\n",
              "            '<a target=\"_blank\" href=https://colab.research.google.com/notebooks/data_table.ipynb>data table notebook</a>'\n",
              "            + ' to learn more about interactive tables.';\n",
              "          element.innerHTML = '';\n",
              "          dataTable['output_type'] = 'display_data';\n",
              "          await google.colab.output.renderOutput(dataTable, element);\n",
              "          const docLink = document.createElement('div');\n",
              "          docLink.innerHTML = docLinkHtml;\n",
              "          element.appendChild(docLink);\n",
              "        }\n",
              "      </script>\n",
              "    </div>\n",
              "  </div>\n",
              "  "
            ],
            "text/plain": [
              "      report_year  violent_crimes agency_jurisdiction\n",
              "1076         1990        174542.0   New York City, NY\n",
              "1145         1991        170390.0   New York City, NY\n",
              "1007         1989        169487.0   New York City, NY\n",
              "938          1988        162916.0   New York City, NY\n",
              "1214         1992        159578.0   New York City, NY\n",
              "455          1981        156946.0   New York City, NY\n",
              "1283         1993        153543.0   New York City, NY\n",
              "386          1980        149549.0   New York City, NY\n",
              "869          1987        148313.0   New York City, NY\n",
              "524          1982        143943.0   New York City, NY"
            ]
          },
          "execution_count": 29,
          "metadata": {},
          "output_type": "execute_result"
        }
      ],
      "source": [
        "df_violent = df.sort_values(by=[\"violent_crimes\"], ascending=False)[[\"report_year\",\"violent_crimes\", \"agency_jurisdiction\"]]\n",
        "df_violent.head(10)"
      ]
    },
    {
      "cell_type": "markdown",
      "metadata": {
        "id": "taWU6MAZ1Hi0"
      },
      "source": [
        "> As per above output, it is very clear that New York city has had the highest overall crimes rate in the whole America with 174542.0 in the year 1990.\n",
        "\n",
        "> And what's more astonishing is that New York city has been on top for having highest crime rate in 23 years out of 40 years.\n",
        "\n",
        "---"
      ]
    },
    {
      "cell_type": "markdown",
      "metadata": {
        "id": "4uZPYvG7f1-o"
      },
      "source": [
        "##Sort"
      ]
    },
    {
      "cell_type": "markdown",
      "metadata": {
        "id": "CCWNBEGFJ7EG"
      },
      "source": [
        "> My new dataframe consists of only 5 columns that include: report_year, agency_jurisdiction, population, violent_crimes, and crimes_percapita."
      ]
    },
    {
      "cell_type": "markdown",
      "metadata": {
        "id": "nYUN9j8wKt9c"
      },
      "source": [
        "> Using the new dataframe, I will sort my data in descending order of population and print the top 10 rows.\n"
      ]
    },
    {
      "cell_type": "code",
      "execution_count": null,
      "metadata": {
        "colab": {
          "base_uri": "https://localhost:8080/",
          "height": 363
        },
        "id": "yGysLOTb4fN7",
        "outputId": "13317551-97ef-4eba-8917-d8c2742af53b"
      },
      "outputs": [
        {
          "data": {
            "text/html": [
              "\n",
              "  <div id=\"df-f515ac0d-fe41-482f-8f44-dcaf2c587f40\">\n",
              "    <div class=\"colab-df-container\">\n",
              "      <div>\n",
              "<style scoped>\n",
              "    .dataframe tbody tr th:only-of-type {\n",
              "        vertical-align: middle;\n",
              "    }\n",
              "\n",
              "    .dataframe tbody tr th {\n",
              "        vertical-align: top;\n",
              "    }\n",
              "\n",
              "    .dataframe thead th {\n",
              "        text-align: right;\n",
              "    }\n",
              "</style>\n",
              "<table border=\"1\" class=\"dataframe\">\n",
              "  <thead>\n",
              "    <tr style=\"text-align: right;\">\n",
              "      <th></th>\n",
              "      <th>report_year</th>\n",
              "      <th>agency_jurisdiction</th>\n",
              "      <th>population</th>\n",
              "      <th>violent_crimes</th>\n",
              "      <th>crimes_percapita</th>\n",
              "    </tr>\n",
              "  </thead>\n",
              "  <tbody>\n",
              "    <tr>\n",
              "      <th>2801</th>\n",
              "      <td>2015</td>\n",
              "      <td>New York City, NY</td>\n",
              "      <td>8550861.0</td>\n",
              "      <td>50088.0</td>\n",
              "      <td>585.77</td>\n",
              "    </tr>\n",
              "    <tr>\n",
              "      <th>2732</th>\n",
              "      <td>2014</td>\n",
              "      <td>New York City, NY</td>\n",
              "      <td>8473938.0</td>\n",
              "      <td>50564.0</td>\n",
              "      <td>596.70</td>\n",
              "    </tr>\n",
              "    <tr>\n",
              "      <th>2387</th>\n",
              "      <td>2009</td>\n",
              "      <td>New York City, NY</td>\n",
              "      <td>8400907.0</td>\n",
              "      <td>46357.0</td>\n",
              "      <td>551.81</td>\n",
              "    </tr>\n",
              "    <tr>\n",
              "      <th>2663</th>\n",
              "      <td>2013</td>\n",
              "      <td>New York City, NY</td>\n",
              "      <td>8396126.0</td>\n",
              "      <td>52384.0</td>\n",
              "      <td>623.91</td>\n",
              "    </tr>\n",
              "    <tr>\n",
              "      <th>2318</th>\n",
              "      <td>2008</td>\n",
              "      <td>New York City, NY</td>\n",
              "      <td>8345075.0</td>\n",
              "      <td>48430.0</td>\n",
              "      <td>580.34</td>\n",
              "    </tr>\n",
              "    <tr>\n",
              "      <th>2594</th>\n",
              "      <td>2012</td>\n",
              "      <td>New York City, NY</td>\n",
              "      <td>8289415.0</td>\n",
              "      <td>52993.0</td>\n",
              "      <td>639.29</td>\n",
              "    </tr>\n",
              "    <tr>\n",
              "      <th>2249</th>\n",
              "      <td>2007</td>\n",
              "      <td>New York City, NY</td>\n",
              "      <td>8220196.0</td>\n",
              "      <td>50453.0</td>\n",
              "      <td>613.77</td>\n",
              "    </tr>\n",
              "    <tr>\n",
              "      <th>2525</th>\n",
              "      <td>2011</td>\n",
              "      <td>New York City, NY</td>\n",
              "      <td>8211875.0</td>\n",
              "      <td>51209.0</td>\n",
              "      <td>623.60</td>\n",
              "    </tr>\n",
              "    <tr>\n",
              "      <th>2456</th>\n",
              "      <td>2010</td>\n",
              "      <td>New York City, NY</td>\n",
              "      <td>8175133.0</td>\n",
              "      <td>48489.0</td>\n",
              "      <td>593.13</td>\n",
              "    </tr>\n",
              "    <tr>\n",
              "      <th>2180</th>\n",
              "      <td>2006</td>\n",
              "      <td>New York City, NY</td>\n",
              "      <td>8165001.0</td>\n",
              "      <td>52086.0</td>\n",
              "      <td>637.92</td>\n",
              "    </tr>\n",
              "  </tbody>\n",
              "</table>\n",
              "</div>\n",
              "      <button class=\"colab-df-convert\" onclick=\"convertToInteractive('df-f515ac0d-fe41-482f-8f44-dcaf2c587f40')\"\n",
              "              title=\"Convert this dataframe to an interactive table.\"\n",
              "              style=\"display:none;\">\n",
              "        \n",
              "  <svg xmlns=\"http://www.w3.org/2000/svg\" height=\"24px\"viewBox=\"0 0 24 24\"\n",
              "       width=\"24px\">\n",
              "    <path d=\"M0 0h24v24H0V0z\" fill=\"none\"/>\n",
              "    <path d=\"M18.56 5.44l.94 2.06.94-2.06 2.06-.94-2.06-.94-.94-2.06-.94 2.06-2.06.94zm-11 1L8.5 8.5l.94-2.06 2.06-.94-2.06-.94L8.5 2.5l-.94 2.06-2.06.94zm10 10l.94 2.06.94-2.06 2.06-.94-2.06-.94-.94-2.06-.94 2.06-2.06.94z\"/><path d=\"M17.41 7.96l-1.37-1.37c-.4-.4-.92-.59-1.43-.59-.52 0-1.04.2-1.43.59L10.3 9.45l-7.72 7.72c-.78.78-.78 2.05 0 2.83L4 21.41c.39.39.9.59 1.41.59.51 0 1.02-.2 1.41-.59l7.78-7.78 2.81-2.81c.8-.78.8-2.07 0-2.86zM5.41 20L4 18.59l7.72-7.72 1.47 1.35L5.41 20z\"/>\n",
              "  </svg>\n",
              "      </button>\n",
              "      \n",
              "  <style>\n",
              "    .colab-df-container {\n",
              "      display:flex;\n",
              "      flex-wrap:wrap;\n",
              "      gap: 12px;\n",
              "    }\n",
              "\n",
              "    .colab-df-convert {\n",
              "      background-color: #E8F0FE;\n",
              "      border: none;\n",
              "      border-radius: 50%;\n",
              "      cursor: pointer;\n",
              "      display: none;\n",
              "      fill: #1967D2;\n",
              "      height: 32px;\n",
              "      padding: 0 0 0 0;\n",
              "      width: 32px;\n",
              "    }\n",
              "\n",
              "    .colab-df-convert:hover {\n",
              "      background-color: #E2EBFA;\n",
              "      box-shadow: 0px 1px 2px rgba(60, 64, 67, 0.3), 0px 1px 3px 1px rgba(60, 64, 67, 0.15);\n",
              "      fill: #174EA6;\n",
              "    }\n",
              "\n",
              "    [theme=dark] .colab-df-convert {\n",
              "      background-color: #3B4455;\n",
              "      fill: #D2E3FC;\n",
              "    }\n",
              "\n",
              "    [theme=dark] .colab-df-convert:hover {\n",
              "      background-color: #434B5C;\n",
              "      box-shadow: 0px 1px 3px 1px rgba(0, 0, 0, 0.15);\n",
              "      filter: drop-shadow(0px 1px 2px rgba(0, 0, 0, 0.3));\n",
              "      fill: #FFFFFF;\n",
              "    }\n",
              "  </style>\n",
              "\n",
              "      <script>\n",
              "        const buttonEl =\n",
              "          document.querySelector('#df-f515ac0d-fe41-482f-8f44-dcaf2c587f40 button.colab-df-convert');\n",
              "        buttonEl.style.display =\n",
              "          google.colab.kernel.accessAllowed ? 'block' : 'none';\n",
              "\n",
              "        async function convertToInteractive(key) {\n",
              "          const element = document.querySelector('#df-f515ac0d-fe41-482f-8f44-dcaf2c587f40');\n",
              "          const dataTable =\n",
              "            await google.colab.kernel.invokeFunction('convertToInteractive',\n",
              "                                                     [key], {});\n",
              "          if (!dataTable) return;\n",
              "\n",
              "          const docLinkHtml = 'Like what you see? Visit the ' +\n",
              "            '<a target=\"_blank\" href=https://colab.research.google.com/notebooks/data_table.ipynb>data table notebook</a>'\n",
              "            + ' to learn more about interactive tables.';\n",
              "          element.innerHTML = '';\n",
              "          dataTable['output_type'] = 'display_data';\n",
              "          await google.colab.output.renderOutput(dataTable, element);\n",
              "          const docLink = document.createElement('div');\n",
              "          docLink.innerHTML = docLinkHtml;\n",
              "          element.appendChild(docLink);\n",
              "        }\n",
              "      </script>\n",
              "    </div>\n",
              "  </div>\n",
              "  "
            ],
            "text/plain": [
              "      report_year agency_jurisdiction  population  violent_crimes  \\\n",
              "2801         2015   New York City, NY   8550861.0         50088.0   \n",
              "2732         2014   New York City, NY   8473938.0         50564.0   \n",
              "2387         2009   New York City, NY   8400907.0         46357.0   \n",
              "2663         2013   New York City, NY   8396126.0         52384.0   \n",
              "2318         2008   New York City, NY   8345075.0         48430.0   \n",
              "2594         2012   New York City, NY   8289415.0         52993.0   \n",
              "2249         2007   New York City, NY   8220196.0         50453.0   \n",
              "2525         2011   New York City, NY   8211875.0         51209.0   \n",
              "2456         2010   New York City, NY   8175133.0         48489.0   \n",
              "2180         2006   New York City, NY   8165001.0         52086.0   \n",
              "\n",
              "      crimes_percapita  \n",
              "2801            585.77  \n",
              "2732            596.70  \n",
              "2387            551.81  \n",
              "2663            623.91  \n",
              "2318            580.34  \n",
              "2594            639.29  \n",
              "2249            613.77  \n",
              "2525            623.60  \n",
              "2456            593.13  \n",
              "2180            637.92  "
            ]
          },
          "execution_count": 30,
          "metadata": {},
          "output_type": "execute_result"
        }
      ],
      "source": [
        "sorted_df = df[[\"report_year\", \"agency_jurisdiction\", \"population\", \"violent_crimes\", \"crimes_percapita\"]]\n",
        "sorted_df.sort_values(by='population', ascending=False).head(10)"
      ]
    },
    {
      "cell_type": "markdown",
      "metadata": {
        "id": "VItRx5O6Kn4i"
      },
      "source": [
        "> From the above output it can be noticed that in the year *2015*, **New York City** has had the highest population amongest all with *8,550,861*.\n",
        "- Moreover, New york city has consistenly managed to be at the top in the number of population for **23 years** in total."
      ]
    },
    {
      "cell_type": "markdown",
      "metadata": {
        "id": "CnlF7oayLwNE"
      },
      "source": [
        "> In the below section, I have grouped agency_jurisdiction and report_year columns to give sum of crime per capita in a descending order.\n",
        "- From the below output it can be seen that Miami, FL has the highest crime per capita in both 1990 followed by 1991 with 4352.83 and 4190.84 simultaneously."
      ]
    },
    {
      "cell_type": "code",
      "execution_count": null,
      "metadata": {
        "colab": {
          "base_uri": "https://localhost:8080/"
        },
        "id": "XuXZLAj85ZhB",
        "outputId": "f2ecc25f-04dc-4539-e7be-bcf266529569"
      },
      "outputs": [
        {
          "data": {
            "text/plain": [
              "agency_jurisdiction  report_year\n",
              "Miami, FL            1990           4352.83\n",
              "                     1991           4190.84\n",
              "Atlanta, GA          1990           4085.36\n",
              "                     1991           4050.51\n",
              "                     1993           4041.18\n",
              "Newark, NJ           1995           3985.29\n",
              "Atlanta, GA          1989           3951.40\n",
              "Miami, FL            1993           3892.96\n",
              "Newark, NJ           1990           3881.97\n",
              "St. Louis, MO        1993           3874.92\n",
              "Atlanta, GA          1992           3859.07\n",
              "Newark, NJ           1994           3840.61\n",
              "                     1993           3787.44\n",
              "St. Louis, MO        1994           3750.67\n",
              "Miami, FL            1992           3730.69\n",
              "Newark, NJ           1981           3702.52\n",
              "Miami, FL            1989           3696.95\n",
              "Atlanta, GA          1995           3646.46\n",
              "                     1988           3575.55\n",
              "                     1994           3570.98\n",
              "Name: crimes_percapita, dtype: float64"
            ]
          },
          "execution_count": 31,
          "metadata": {},
          "output_type": "execute_result"
        }
      ],
      "source": [
        "df_sort1 = sorted_df.groupby(['agency_jurisdiction', 'report_year'])['crimes_percapita'].sum().sort_values(ascending=False)\n",
        "df_sort1.head(20)"
      ]
    },
    {
      "cell_type": "markdown",
      "metadata": {
        "id": "E_yUSwNQOlI-"
      },
      "source": [
        "> In my third sort, I grouped year column and calculated the sum of violent crimes in that particular year to give output in ascending order of the sum values.\n",
        "- From the below output it can be denoted that year 1991 reported highest number of violent crimes in 4 decades with *900,316*."
      ]
    },
    {
      "cell_type": "code",
      "execution_count": null,
      "metadata": {
        "colab": {
          "base_uri": "https://localhost:8080/"
        },
        "id": "GIYLDctXEPY5",
        "outputId": "5121d862-3413-4ca7-8b02-1d156d5dd7ab"
      },
      "outputs": [
        {
          "data": {
            "text/plain": [
              "report_year\n",
              "1991    900316.0\n",
              "1992    882124.0\n",
              "1993    866963.0\n",
              "1990    865969.0\n",
              "1994    817446.0\n",
              "1989    787135.0\n",
              "1995    766751.0\n",
              "1988    726439.0\n",
              "1986    716491.0\n",
              "1996    715249.0\n",
              "Name: violent_crimes, dtype: float64"
            ]
          },
          "execution_count": 32,
          "metadata": {},
          "output_type": "execute_result"
        }
      ],
      "source": [
        "df_sort2 = sorted_df.groupby(['report_year'])['violent_crimes'].sum().sort_values(ascending=False)\n",
        "df_sort2.head(10)"
      ]
    },
    {
      "cell_type": "markdown",
      "metadata": {
        "id": "itAuBUmLgLrN"
      },
      "source": [
        "---"
      ]
    },
    {
      "cell_type": "markdown",
      "metadata": {
        "id": "zjAbqVnCf17i"
      },
      "source": [
        "##Series"
      ]
    },
    {
      "cell_type": "markdown",
      "metadata": {
        "id": "dGMpRpEeuk5f"
      },
      "source": [
        "> My chosen 5 columns are same as above sorted data frame that is: Report year, agency_jurisdiction, population, violent_crimes, and crimes_percapita.\n",
        "- From the below code, it can be noticed that none of the column has any null values and and the dtype of report year is **int** type while the rest except agency jurisdiction are all **float** value. Agency jurisdiction has a dtype of an **object**. "
      ]
    },
    {
      "cell_type": "code",
      "execution_count": null,
      "metadata": {
        "colab": {
          "base_uri": "https://localhost:8080/"
        },
        "id": "DdZP9dTb4fyx",
        "outputId": "7b313204-3d03-4ad6-8dc0-c067920bb947"
      },
      "outputs": [
        {
          "name": "stdout",
          "output_type": "stream",
          "text": [
            "<class 'pandas.core.frame.DataFrame'>\n",
            "Int64Index: 2788 entries, 0 to 2827\n",
            "Data columns (total 5 columns):\n",
            " #   Column               Non-Null Count  Dtype  \n",
            "---  ------               --------------  -----  \n",
            " 0   report_year          2788 non-null   int64  \n",
            " 1   agency_jurisdiction  2788 non-null   object \n",
            " 2   population           2788 non-null   float64\n",
            " 3   violent_crimes       2788 non-null   float64\n",
            " 4   crimes_percapita     2788 non-null   float64\n",
            "dtypes: float64(3), int64(1), object(1)\n",
            "memory usage: 130.7+ KB\n"
          ]
        }
      ],
      "source": [
        "sorted_df.info()"
      ]
    },
    {
      "cell_type": "code",
      "execution_count": null,
      "metadata": {
        "colab": {
          "base_uri": "https://localhost:8080/",
          "height": 300
        },
        "id": "nx5bgyistDjf",
        "outputId": "f5e532ce-da4c-4ff9-f1e6-f756712ca52e"
      },
      "outputs": [
        {
          "data": {
            "text/html": [
              "\n",
              "  <div id=\"df-1cced34f-01f0-4290-a433-a8528368182e\">\n",
              "    <div class=\"colab-df-container\">\n",
              "      <div>\n",
              "<style scoped>\n",
              "    .dataframe tbody tr th:only-of-type {\n",
              "        vertical-align: middle;\n",
              "    }\n",
              "\n",
              "    .dataframe tbody tr th {\n",
              "        vertical-align: top;\n",
              "    }\n",
              "\n",
              "    .dataframe thead th {\n",
              "        text-align: right;\n",
              "    }\n",
              "</style>\n",
              "<table border=\"1\" class=\"dataframe\">\n",
              "  <thead>\n",
              "    <tr style=\"text-align: right;\">\n",
              "      <th></th>\n",
              "      <th>report_year</th>\n",
              "      <th>population</th>\n",
              "      <th>violent_crimes</th>\n",
              "      <th>crimes_percapita</th>\n",
              "    </tr>\n",
              "  </thead>\n",
              "  <tbody>\n",
              "    <tr>\n",
              "      <th>count</th>\n",
              "      <td>2788.0</td>\n",
              "      <td>2788.0</td>\n",
              "      <td>2788.0</td>\n",
              "      <td>2788.0</td>\n",
              "    </tr>\n",
              "    <tr>\n",
              "      <th>mean</th>\n",
              "      <td>1995.0</td>\n",
              "      <td>787707.0</td>\n",
              "      <td>8834.0</td>\n",
              "      <td>1087.0</td>\n",
              "    </tr>\n",
              "    <tr>\n",
              "      <th>std</th>\n",
              "      <td>12.0</td>\n",
              "      <td>1010473.0</td>\n",
              "      <td>15794.0</td>\n",
              "      <td>685.0</td>\n",
              "    </tr>\n",
              "    <tr>\n",
              "      <th>min</th>\n",
              "      <td>1975.0</td>\n",
              "      <td>0.0</td>\n",
              "      <td>0.0</td>\n",
              "      <td>0.0</td>\n",
              "    </tr>\n",
              "    <tr>\n",
              "      <th>25%</th>\n",
              "      <td>1985.0</td>\n",
              "      <td>375843.0</td>\n",
              "      <td>2886.0</td>\n",
              "      <td>624.0</td>\n",
              "    </tr>\n",
              "    <tr>\n",
              "      <th>50%</th>\n",
              "      <td>1995.0</td>\n",
              "      <td>531404.0</td>\n",
              "      <td>4996.0</td>\n",
              "      <td>951.0</td>\n",
              "    </tr>\n",
              "    <tr>\n",
              "      <th>75%</th>\n",
              "      <td>2005.0</td>\n",
              "      <td>812684.0</td>\n",
              "      <td>8731.0</td>\n",
              "      <td>1411.0</td>\n",
              "    </tr>\n",
              "    <tr>\n",
              "      <th>max</th>\n",
              "      <td>2015.0</td>\n",
              "      <td>8550861.0</td>\n",
              "      <td>174542.0</td>\n",
              "      <td>4353.0</td>\n",
              "    </tr>\n",
              "  </tbody>\n",
              "</table>\n",
              "</div>\n",
              "      <button class=\"colab-df-convert\" onclick=\"convertToInteractive('df-1cced34f-01f0-4290-a433-a8528368182e')\"\n",
              "              title=\"Convert this dataframe to an interactive table.\"\n",
              "              style=\"display:none;\">\n",
              "        \n",
              "  <svg xmlns=\"http://www.w3.org/2000/svg\" height=\"24px\"viewBox=\"0 0 24 24\"\n",
              "       width=\"24px\">\n",
              "    <path d=\"M0 0h24v24H0V0z\" fill=\"none\"/>\n",
              "    <path d=\"M18.56 5.44l.94 2.06.94-2.06 2.06-.94-2.06-.94-.94-2.06-.94 2.06-2.06.94zm-11 1L8.5 8.5l.94-2.06 2.06-.94-2.06-.94L8.5 2.5l-.94 2.06-2.06.94zm10 10l.94 2.06.94-2.06 2.06-.94-2.06-.94-.94-2.06-.94 2.06-2.06.94z\"/><path d=\"M17.41 7.96l-1.37-1.37c-.4-.4-.92-.59-1.43-.59-.52 0-1.04.2-1.43.59L10.3 9.45l-7.72 7.72c-.78.78-.78 2.05 0 2.83L4 21.41c.39.39.9.59 1.41.59.51 0 1.02-.2 1.41-.59l7.78-7.78 2.81-2.81c.8-.78.8-2.07 0-2.86zM5.41 20L4 18.59l7.72-7.72 1.47 1.35L5.41 20z\"/>\n",
              "  </svg>\n",
              "      </button>\n",
              "      \n",
              "  <style>\n",
              "    .colab-df-container {\n",
              "      display:flex;\n",
              "      flex-wrap:wrap;\n",
              "      gap: 12px;\n",
              "    }\n",
              "\n",
              "    .colab-df-convert {\n",
              "      background-color: #E8F0FE;\n",
              "      border: none;\n",
              "      border-radius: 50%;\n",
              "      cursor: pointer;\n",
              "      display: none;\n",
              "      fill: #1967D2;\n",
              "      height: 32px;\n",
              "      padding: 0 0 0 0;\n",
              "      width: 32px;\n",
              "    }\n",
              "\n",
              "    .colab-df-convert:hover {\n",
              "      background-color: #E2EBFA;\n",
              "      box-shadow: 0px 1px 2px rgba(60, 64, 67, 0.3), 0px 1px 3px 1px rgba(60, 64, 67, 0.15);\n",
              "      fill: #174EA6;\n",
              "    }\n",
              "\n",
              "    [theme=dark] .colab-df-convert {\n",
              "      background-color: #3B4455;\n",
              "      fill: #D2E3FC;\n",
              "    }\n",
              "\n",
              "    [theme=dark] .colab-df-convert:hover {\n",
              "      background-color: #434B5C;\n",
              "      box-shadow: 0px 1px 3px 1px rgba(0, 0, 0, 0.15);\n",
              "      filter: drop-shadow(0px 1px 2px rgba(0, 0, 0, 0.3));\n",
              "      fill: #FFFFFF;\n",
              "    }\n",
              "  </style>\n",
              "\n",
              "      <script>\n",
              "        const buttonEl =\n",
              "          document.querySelector('#df-1cced34f-01f0-4290-a433-a8528368182e button.colab-df-convert');\n",
              "        buttonEl.style.display =\n",
              "          google.colab.kernel.accessAllowed ? 'block' : 'none';\n",
              "\n",
              "        async function convertToInteractive(key) {\n",
              "          const element = document.querySelector('#df-1cced34f-01f0-4290-a433-a8528368182e');\n",
              "          const dataTable =\n",
              "            await google.colab.kernel.invokeFunction('convertToInteractive',\n",
              "                                                     [key], {});\n",
              "          if (!dataTable) return;\n",
              "\n",
              "          const docLinkHtml = 'Like what you see? Visit the ' +\n",
              "            '<a target=\"_blank\" href=https://colab.research.google.com/notebooks/data_table.ipynb>data table notebook</a>'\n",
              "            + ' to learn more about interactive tables.';\n",
              "          element.innerHTML = '';\n",
              "          dataTable['output_type'] = 'display_data';\n",
              "          await google.colab.output.renderOutput(dataTable, element);\n",
              "          const docLink = document.createElement('div');\n",
              "          docLink.innerHTML = docLinkHtml;\n",
              "          element.appendChild(docLink);\n",
              "        }\n",
              "      </script>\n",
              "    </div>\n",
              "  </div>\n",
              "  "
            ],
            "text/plain": [
              "       report_year  population  violent_crimes  crimes_percapita\n",
              "count       2788.0      2788.0          2788.0            2788.0\n",
              "mean        1995.0    787707.0          8834.0            1087.0\n",
              "std           12.0   1010473.0         15794.0             685.0\n",
              "min         1975.0         0.0             0.0               0.0\n",
              "25%         1985.0    375843.0          2886.0             624.0\n",
              "50%         1995.0    531404.0          4996.0             951.0\n",
              "75%         2005.0    812684.0          8731.0            1411.0\n",
              "max         2015.0   8550861.0        174542.0            4353.0"
            ]
          },
          "execution_count": 47,
          "metadata": {},
          "output_type": "execute_result"
        }
      ],
      "source": [
        "round(sorted_df.describe())"
      ]
    },
    {
      "cell_type": "markdown",
      "metadata": {
        "id": "GmpH5p0XxHvm"
      },
      "source": [
        "* Year column depicts that the data contains from the year 1975 till 2015 and has a total record of *2788*.\n",
        "* Population column depicts that the aveage number of poluation in all states is *787,706* while the interquartile range is *436,842* and the maximum it has reached is *8,550,861*.\n",
        "* Violent crime has an average of *8834* in all jurisdicition with highest at *174542*. The interquartile range is *5846.5* \n",
        "* Crime per capita has an average of *1087* with interqaurtile range of *786*. And the highest crime per capita ever recorded is 4352."
      ]
    },
    {
      "cell_type": "markdown",
      "metadata": {
        "id": "P57V85Gb11EP"
      },
      "source": [
        "> Below is the fifth column which I intend to use for further analysis. As it can be seen that there 68 different jurisdiction as of this data set. Each jurisdiction contains 41 records."
      ]
    },
    {
      "cell_type": "code",
      "execution_count": null,
      "metadata": {
        "colab": {
          "base_uri": "https://localhost:8080/"
        },
        "id": "ygLlsmg1wI26",
        "outputId": "efb9f2e8-c1a8-4b12-d440-a77deadcc631"
      },
      "outputs": [
        {
          "name": "stdout",
          "output_type": "stream",
          "text": [
            "(68,)\n"
          ]
        },
        {
          "data": {
            "text/plain": [
              "agency_jurisdiction\n",
              "Albuquerque, NM           41\n",
              "Oakland, CA               41\n",
              "Pittsburgh, PA            41\n",
              "Phoenix, AZ               41\n",
              "Philadelphia, PA          41\n",
              "                          ..\n",
              "Los Angeles County, CA    41\n",
              "Los Angeles, CA           41\n",
              "Louisville, KY            41\n",
              "Memphis, TN               41\n",
              "Wichita, KS               41\n",
              "Name: agency_jurisdiction, Length: 68, dtype: int64"
            ]
          },
          "execution_count": 35,
          "metadata": {},
          "output_type": "execute_result"
        }
      ],
      "source": [
        "df_agency_jurisdiction = sorted_df.groupby(['agency_jurisdiction'])['agency_jurisdiction'].count().sort_values(ascending=False)\n",
        "print(df_agency_jurisdiction.shape);\n",
        "df_agency_jurisdiction"
      ]
    },
    {
      "cell_type": "markdown",
      "metadata": {
        "id": "R6xmrUlwgN--"
      },
      "source": [
        "---"
      ]
    },
    {
      "cell_type": "markdown",
      "metadata": {
        "id": "i4EqH0XZf7rY"
      },
      "source": [
        "##Plot"
      ]
    },
    {
      "cell_type": "code",
      "execution_count": null,
      "metadata": {
        "colab": {
          "base_uri": "https://localhost:8080/",
          "height": 1000
        },
        "id": "aRl7biT1TGew",
        "outputId": "d7434338-8b6d-4376-ff63-f9ddc1e5b147"
      },
      "outputs": [
        {
          "name": "stderr",
          "output_type": "stream",
          "text": [
            "/usr/local/lib/python3.7/dist-packages/seaborn/_decorators.py:43: FutureWarning: Pass the following variable as a keyword arg: x. From version 0.12, the only valid positional argument will be `data`, and passing other arguments without an explicit keyword will result in an error or misinterpretation.\n",
            "  FutureWarning\n"
          ]
        },
        {
          "data": {
            "text/plain": [
              "[Text(0, 0.5, 'City and state'), Text(0.5, 0, 'Total number of crimes')]"
            ]
          },
          "execution_count": 36,
          "metadata": {},
          "output_type": "execute_result"
        },
        {
          "data": {
            "image/png": "[encoded data removed]",
            "text/plain": [
              "<Figure size 720x1584 with 1 Axes>"
            ]
          },
          "metadata": {
            "needs_background": "light"
          },
          "output_type": "display_data"
        }
      ],
      "source": [
        "ax=plt.figure(figsize=(10,22))\n",
        "ax = sns.barplot(df[\"violent_crimes\"]+df[\"homicides\"]+\n",
        "                 df[\"rapes\"]+df[\"assaults\"]+df[\"robberies\"],                 \n",
        "                 y=df[\"agency_jurisdiction\"],estimator=sum,color=\"#00798C\")\n",
        "ax.set_title('Total number of crimes in US during in 40 years')\n",
        "ax.set(xlabel='Total number of crimes', ylabel='City and state')"
      ]
    },
    {
      "cell_type": "markdown",
      "metadata": {
        "id": "vwaLs20wFImM"
      },
      "source": [
        ">There are a couple of things that are interesting here. First of all city \"United States\" is the sum of them all. Further more New York, LA, Chicago seem to be most violent, or is it because of the shere number of citizens in these towns? \n",
        "\n",
        ">How can we investigate it? In the next code I'll create a new variable that is relative to the number of citizens, i.e. total number of crime divided with total citizens."
      ]
    },
    {
      "cell_type": "markdown",
      "metadata": {
        "id": "6K7gqtwtFigM"
      },
      "source": [
        "> Let us create a new variable that relative to the number of citizens."
      ]
    },
    {
      "cell_type": "code",
      "execution_count": null,
      "metadata": {
        "id": "cCJCkj5hUtGU"
      },
      "outputs": [],
      "source": [
        "df[\"relative_crime\"]=(df[\"violent_crimes\"]+df[\"homicides\"]+\n",
        "                 df[\"rapes\"]+df[\"assaults\"]+df[\"robberies\"])/df.population"
      ]
    },
    {
      "cell_type": "code",
      "execution_count": null,
      "metadata": {
        "colab": {
          "base_uri": "https://localhost:8080/",
          "height": 1000
        },
        "id": "7rfqrIf6U5lX",
        "outputId": "96b87c3a-b67e-4e7b-8c77-6fa8c8326f22"
      },
      "outputs": [
        {
          "data": {
            "text/plain": [
              "[Text(0, 0.5, 'City and State'), Text(0.5, 0, 'Total number of crimes')]"
            ]
          },
          "execution_count": 55,
          "metadata": {},
          "output_type": "execute_result"
        },
        {
          "data": {
            "image/png": "[encoded data removed]",
            "text/plain": [
              "<Figure size 720x1584 with 1 Axes>"
            ]
          },
          "metadata": {},
          "output_type": "display_data"
        }
      ],
      "source": [
        "ax=plt.figure(figsize=(10,22))\n",
        "ax = sns.barplot(x=df[\"relative_crime\"],y=df[\"agency_jurisdiction\"], palette=\"crest\")\n",
        "ax.set_title('Total number of crimes in US during in 40 years')\n",
        "ax.set(xlabel='Total number of crimes', ylabel='City and State')\n"
      ]
    },
    {
      "cell_type": "markdown",
      "metadata": {
        "id": "j_c0qQtZGpWN"
      },
      "source": [
        "> Now this paints a whole different picture, as you can see Atlanta, Detroit, Miami, Newark and St louis tops the list on total crime in that jurisdiction per population."
      ]
    },
    {
      "cell_type": "markdown",
      "metadata": {
        "id": "5FWEzbZbJGkQ"
      },
      "source": [
        "> Let us create a piechart to see the weightage of different crimes. Firstly, we will calculate the sum of each variable and store it in a different variable then using plt.figure function we will plot a piechart with their weight in percentage and different color scheme to make it more visual."
      ]
    },
    {
      "cell_type": "code",
      "execution_count": null,
      "metadata": {
        "colab": {
          "base_uri": "https://localhost:8080/",
          "height": 358
        },
        "id": "6_FQnBRyHx82",
        "outputId": "e10296df-3b88-412a-d647-f51138a6f392"
      },
      "outputs": [
        {
          "data": {
            "image/png": "[encoded data removed]",
            "text/plain": [
              "<Figure size 360x504 with 1 Axes>"
            ]
          },
          "metadata": {},
          "output_type": "display_data"
        }
      ],
      "source": [
        "total_homicides = df.homicides.sum()\n",
        "total_rapes = df.rapes.sum()\n",
        "total_assaults = df.assaults.sum()\n",
        "total_robberies = df.robberies.sum()\n",
        "\n",
        "plt.figure(figsize=(5,7))\n",
        "\n",
        "# Create a set of colors\n",
        "names = ['Homicides','Rapes','Assaults','Robberies']\n",
        "colors = ['#EDAE49', '#E63946', '#00798C', '#52489C']\n",
        "\n",
        "plt.pie([total_homicides,total_rapes,total_assaults,total_robberies], radius=1.4, \n",
        "        shadow=True, labels=names, autopct='%.1f %%', labeldistance=1.05, \n",
        "        wedgeprops = { 'linewidth' : 2, 'edgecolor' : 'white' }, \n",
        "        colors=colors);\n",
        "plt.show()"
      ]
    },
    {
      "cell_type": "markdown",
      "metadata": {
        "id": "NffCqibAJ0PS"
      },
      "source": [
        "> From the plot, it can be denoted that 49.2% of crimes were assault, 44,7% were robberies, 4,7% were rapes and 1.4% were homicides."
      ]
    },
    {
      "cell_type": "markdown",
      "metadata": {
        "id": "XXsrjIsogQSR"
      },
      "source": [
        "---"
      ]
    },
    {
      "cell_type": "markdown",
      "metadata": {
        "id": "OKgjr5yNf7ox"
      },
      "source": [
        "##Summary / Finding"
      ]
    },
    {
      "cell_type": "markdown",
      "metadata": {
        "id": "twG4yb_aSCWa"
      },
      "source": [
        "> This dataset contains *2788* attributes and *15* features on which we could work on. Having gone through thorough analysis, I have come up with some finding about crimes and all its related from the dataset that could be of a reliable information to Police law Enforcement. Let us take a look at some of them below.\n",
        "- From One column selection I found that *New York city* jurisdiction has had the highest overall crimes rate in the whole America with *174,542.0* in the year ***1990***. And what's more astonishing is that New York city has been on top for having highest crime rate in **23** years out of 40 years.\n",
        "- After sorting the dataset, my analysis also states that in the year *2015*, **New York City** has had the highest population amongest all with *8,550,861* and also it has consistenly managed to be at the top in the number of population for **23 years** in total.\n",
        "- Although the overall crime rate is higher in the New York jurisdiction, **Miami, FL** has the highest crime per capita in both *1990* followed by *1991* with *4352.83* and *4190.84* simultaneously.\n",
        "- Year *1991* reported highest number of violent crimes in 4 decades with *900,316*.\n",
        "- After calculating relative crime in each jurisdiction, there top 6 jurisdiction with highest crime rate. These are - Atlanta, Miami, St louis, Newark, Detroit and Baltimore.\n",
        "\n",
        "\n",
        "--- \n"
      ]
    },
    {
      "cell_type": "markdown",
      "metadata": {
        "id": "ly4FZGImgA1l"
      },
      "source": [
        "##Recommendations"
      ]
    },
    {
      "cell_type": "markdown",
      "metadata": {
        "id": "od9iT8SIbWpA"
      },
      "source": [
        "> After multiple meetings with the head of police law enforcement team over the crime analysis report, we build up strong suggestion on what future steps could be taken to minimize or tackle crimes in each jurisdiction.\n",
        "\n",
        "> My recommendation is that, all the top 6 jurisdiction as mentioned in the summary should be equipped with higher number of officers patrolling day and night. If the staff is shorten in any case, there are other jurisdiction that could help with where the crime rates are very low such as: Fairfax county, Virginia, Wichita, Salt lake Utah and many more.\n",
        "\n",
        "> Install more CCTV in area which are prone to higher crime rate, as the streets are reguarly monitored."
      ]
    },
    {
      "cell_type": "markdown",
      "metadata": {
        "id": "wQuFfdqgWsF4"
      },
      "source": [
        "> "
      ]
    }
  ],
  "metadata": {
    "colab": {
      "collapsed_sections": [
        "QLvokeDNfq70",
        "K3ZAdjXwfzsX",
        "4uZPYvG7f1-o",
        "zjAbqVnCf17i",
        "i4EqH0XZf7rY"
      ],
      "provenance": [],
      "include_colab_link": true
    },
    "kernelspec": {
      "display_name": "Python 3 (ipykernel)",
      "language": "python",
      "name": "python3"
    },
    "language_info": {
      "codemirror_mode": {
        "name": "ipython",
        "version": 3
      },
      "file_extension": ".py",
      "mimetype": "text/x-python",
      "name": "python",
      "nbconvert_exporter": "python",
      "pygments_lexer": "ipython3",
      "version": "3.9.7"
    }
  },
  "nbformat": 4,
  "nbformat_minor": 0
}